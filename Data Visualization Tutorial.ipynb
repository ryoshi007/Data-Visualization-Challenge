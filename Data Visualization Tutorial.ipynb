{
 "cells": [
  {
   "cell_type": "markdown",
   "metadata": {},
   "source": [
    "# **Data Visualization** 📈\n",
    "\n",
    "Greeting, challengers! In this station, you will learn on how to convert data and information into beautiful graphics by using Python. Visual elements like charts, graphs and maps provide an accessible way to see and understand trends, outliers and patterns in data. This step is essentially important when the data scientists want to perform exploratory data analysis (EDA) before creating a machine learning model. It is also used to present the findings from the data in a more visual appeal way, because who likes to see a bunch of lengthy sentences when a beautiful graph can summarise all of these at once?\n",
    "\n",
    "<br>\n",
    "\n",
    "![Introduction%20Picture.png](Assets/Introduction%20Picture.png)"
   ]
  },
  {
   "cell_type": "markdown",
   "metadata": {},
   "source": [
    "---\n",
    "\n",
    "## **Know Your Tools 🔎**\n",
    "Below are the tools and libraries that will be used for this tutorial and challenges.\n",
    "\n",
    "<br>\n",
    "\n",
    "> **Jupyter Notebook**<br><br>\n",
    "Number one go-to tool for data scientists. It offers an interactive web interface that can be used for data visualization, easy analysis, modelling and collaboration\n",
    "<br><br><br>\n",
    "> **Pandas**<br><br>\n",
    "An open-source Python library that provides high-performance, easy-to-use data structure and data analysis tools\n",
    "<br><br><br>\n",
    "> **Matplotlib**<br><br>\n",
    "A comprehensive library for creating static, animated and interactive visualizations in Python\n",
    "<br><br><br>\n",
    "> **Seaborn**<br><br>\n",
    "A library for making statistical graphics in Python. It is built on top of matplotlib and integrates closely with pandas data structures"
   ]
  },
  {
   "cell_type": "markdown",
   "metadata": {},
   "source": [
    "---\n",
    "\n",
    "## **Gear Up Yourself 🧰**\n",
    "*If you use your own laptop and did not install any tools mentioned above, please go through the following instructions. If you use the machine from the station, you can skip this part.*\n",
    "\n",
    "1. Install Jupyter by entering the following code into the command-line <br>\n",
    "```\n",
    "$ pip install jupyter\n",
    "```\n",
    "\n",
    "2. Next, install pandas, matplotlib and seaborn libraries <br>\n",
    "```\n",
    "$ pip install pandas \n",
    "$ pip install matplotlib\n",
    "$ pip install seaborn\n",
    "```\n",
    "\n",
    "3. After the installations are completed, start the Jupyter Notebook server. Type the command below in your terminal. <br>\n",
    "```\n",
    "$ jupyter notebook\n",
    "```\n",
    "\n",
    "    A Jupyter page showing files in the current directory will open in your computer's default browser. <br><br>\n",
    "    **Note: <font color=red>Do not close the terminal window that you run this command in. Your server will stop if you do so.</font>**\n",
    "\n",
    "<br>\n",
    "Great! That's all for the setup. Let's us begin the fun stuff!"
   ]
  },
  {
   "cell_type": "markdown",
   "metadata": {},
   "source": [
    "---\n",
    "\n",
    "# **Tutorial Section 👨‍🏫**\n",
    "This section will teach you the basic of the matplotlib and seaborn libraries. It will not provide mark but experience to those who are unfamiliar with these tools. If you are an expert in these libraries, you may start to go through the challenges."
   ]
  },
  {
   "cell_type": "markdown",
   "metadata": {},
   "source": [
    "---\n",
    "---\n",
    "\n",
    "## **Matplotlib**\n",
    "\n",
    "Matplotlib is the \"grandfather\" library of data visualization with Python. It was created by John Hunter, and is an excellent 2D and 3D graphics library for generating scientific figures.\n",
    "\n",
    "Some of the major Pros of Matplotlib are:\n",
    "- Generally easy to get started for simple plots\n",
    "- Support for custom labels and texts\n",
    "- Great control of every element in a figure\n",
    "- High-quality output in many formats\n",
    "- Very customizable in general\n",
    "\n",
    "### Importing\n",
    "Run the following cell to import the **pyplot** graphic library from the **matplotlib** API with the name `plt` by convention."
   ]
  },
  {
   "cell_type": "code",
   "execution_count": null,
   "metadata": {},
   "outputs": [],
   "source": [
    "import matplotlib.pyplot as plt"
   ]
  },
  {
   "cell_type": "markdown",
   "metadata": {},
   "source": [
    "### Plot a Basic Graph\n",
    "Run the following cell:"
   ]
  },
  {
   "cell_type": "code",
   "execution_count": null,
   "metadata": {},
   "outputs": [],
   "source": [
    "# Defines data to be ploted as a graph\n",
    "x = [1,2,3,4,5,6,7,8]\n",
    "y = [2,4,6,8,10,12,14,16]\n",
    "\n",
    "# Plot the graph\n",
    "plt.plot(x, y)\n",
    "\n",
    "# Name the X and Y axes\n",
    "plt.xlabel('X Axis Title Here')\n",
    "plt.ylabel('Y Axis Title Here')\n",
    "\n",
    "# Name the title of the graph\n",
    "plt.title('String Title Here')\n",
    "\n",
    "# Display the graph\n",
    "plt.show()"
   ]
  },
  {
   "cell_type": "markdown",
   "metadata": {},
   "source": [
    "You should get the graph like this after running the code\n",
    "\n",
    "![basic_plot_1.png](Assets/basic_plot_1.png)"
   ]
  },
  {
   "cell_type": "markdown",
   "metadata": {},
   "source": [
    "Matplotlib generates the minimum and maximum values of variable to be presented along the x, y (and z-axis in the case of a 3D plot) axes of a plot automatically. However, it is possible to define explicit limits by using the xlim() and ylim() methods.\n",
    "\n",
    "Run the following code:"
   ]
  },
  {
   "cell_type": "code",
   "execution_count": null,
   "metadata": {},
   "outputs": [],
   "source": [
    "plt.plot(x, y) \n",
    "plt.xlabel('X Axis Title Here')\n",
    "plt.ylabel('Y Axis Title Here')\n",
    "plt.title('String Title Here')\n",
    "plt.xlim(1, 8) # Bound the x-axis within the range [1, 8]\n",
    "plt.ylim(2, 16) # Bound the y-axis within the range [2, 16]\n",
    "plt.show()"
   ]
  },
  {
   "cell_type": "markdown",
   "metadata": {},
   "source": [
    "Now the graph should looks like this:\n",
    "\n",
    "![basic_plot_2.png](Assets/Basic_plot_2.png)"
   ]
  },
  {
   "cell_type": "markdown",
   "metadata": {},
   "source": [
    "### Matplotlib Figure Object\n",
    "Now that we've seen the basics, we shall start with a more formal introduction of Matplotlib's Object Oriented API, which we will instantiate a **figure** objects and then call methods or attributes from that object. This apporach is better when dealing with a canvas that has multiple plots or a more complicated plots in general."
   ]
  },
  {
   "cell_type": "code",
   "execution_count": null,
   "metadata": {},
   "outputs": [],
   "source": [
    "# Defines data to be plotted as a graph\n",
    "x = [0, 1, 2, 3, 4, 5, 6, 7, 8, 9, 10]\n",
    "y = [0, 1, 4, 9, 16, 25, 36, 49, 64, 81, 100]"
   ]
  },
  {
   "cell_type": "markdown",
   "metadata": {},
   "source": [
    "To begin with, let's use a figure object to plot a graph using the data that we defined above."
   ]
  },
  {
   "cell_type": "code",
   "execution_count": null,
   "metadata": {},
   "outputs": [],
   "source": [
    "# Create Figure (empty canvas)\n",
    "fig = plt.figure()\n",
    "\n",
    "# Add set of axes to figure\n",
    "axes = fig.add_axes([0, 0, 1, 1]) # [left, bottom, width, height] (range 0 to 1)\n",
    "\n",
    "# Plot on that set of axes\n",
    "axes.plot(x, y)\n",
    "\n",
    "# Display the plot\n",
    "plt.show()"
   ]
  },
  {
   "cell_type": "markdown",
   "metadata": {},
   "source": [
    "The *matplotlib.pyplot.figure.add_axes()* method adds a set of axes to the figure, by taking a list argument, **rect**.\n",
    "\n",
    "The **rect** parameter is the dimension [left, bottom, width, height] of the new axes, where:\n",
    "- **left**: Horizontal distance from the lower left corner.\n",
    "- **bottom**: Vertical distance form the lower left corner.\n",
    "- **width**: Width of the subplot.\n",
    "- **height**: Height of the subplot.\n",
    "\n",
    "Note that all quantities are in fractions, i.e. range from 0 to 1. "
   ]
  },
  {
   "cell_type": "markdown",
   "metadata": {},
   "source": [
    "### Multiple plots in a figure\n",
    "Now that you've had a better understanding about the *add_axes()* method, you can easily add more than one axis to the figure. In the next session you will learn how to create multiple plots in a figure!"
   ]
  },
  {
   "cell_type": "code",
   "execution_count": null,
   "metadata": {},
   "outputs": [],
   "source": [
    "# Create Figure (empty canvas)\n",
    "fig = plt.figure()\n",
    "\n",
    "# Create the first set of axes\n",
    "axes1 = fig.add_axes([0, 0, 1, 1]) # Large figure\n",
    "axes1.plot(x, y)\n",
    "axes1.set_xlabel('X Label')\n",
    "axes1.set_ylabel('Y Label')\n",
    "axes1.set_title('First Figure')\n",
    "\n",
    "# Create the second set of axes\n",
    "axes2 = fig.add_axes([0.2, 0.4, 0.3, 0.3]) # Small figure\n",
    "axes2.plot(x, y)\n",
    "axes2.set_title('Second Figure')\n",
    "\n",
    "# Display the plot\n",
    "plt.show()"
   ]
  },
  {
   "cell_type": "markdown",
   "metadata": {},
   "source": [
    "The order of adding the axes matters! Note that the first set of axes added to the figure will be rendered first, and appears behind the second set of axes."
   ]
  },
  {
   "cell_type": "markdown",
   "metadata": {},
   "source": [
    "### Matplotlib Sub Plots\n",
    "The main focus here is the *plt.subplots()* method. This method acts like a more automatic axis manager. This makes it much easier to show multiple plots side by side."
   ]
  },
  {
   "cell_type": "markdown",
   "metadata": {},
   "source": [
    "The *matplotlib.pyplot.subplots()* method takes two arguments that describes the layout of the figure, in which:\n",
    "\n",
    "- **nrows** represents the number of rows of the figure, and\n",
    "- **ncols** represents the number of columns of the figure.\n",
    "\n",
    "It will then return **fig** and **ax**, where:\n",
    "\n",
    "- **fig** is an figure object with an empty canvas, and\n",
    "- **ax** can be either a single Axes object or an array of Axes objects if more than one subplot was created."
   ]
  },
  {
   "cell_type": "markdown",
   "metadata": {},
   "source": [
    "Now let's try to create a figure with two side-by-side subplots using the *plt.subplots()* method!"
   ]
  },
  {
   "cell_type": "code",
   "execution_count": null,
   "metadata": {},
   "outputs": [],
   "source": [
    "# Defines data to be plotted as a graph\n",
    "x1 = [0, 1, 2, 3, 4, 5, 6, 7, 8, 9, 10]\n",
    "y1 = [0, 1, 2, 3, 4, 5, 6, 7, 8, 9, 10]\n",
    "\n",
    "x2 = [0, 1, 2, 3, 4, 5, 6, 7, 8, 9, 10]\n",
    "y2 = [0, 1, 4, 9, 16, 25, 36, 49, 64, 81, 100]\n",
    "\n",
    "# Create empty canvas with 1 row and 2 columns of subplot\n",
    "fig, ax = plt.subplots(1, 2)"
   ]
  },
  {
   "cell_type": "code",
   "execution_count": null,
   "metadata": {},
   "outputs": [],
   "source": [
    "# Ax is an array of axes to plot on\n",
    "ax"
   ]
  },
  {
   "cell_type": "markdown",
   "metadata": {},
   "source": [
    "Just as before, we simply use the plot() method to plot on each of the axes that are created by the *subplots()* method."
   ]
  },
  {
   "cell_type": "code",
   "execution_count": null,
   "metadata": {
    "scrolled": true
   },
   "outputs": [],
   "source": [
    "# Plot on the first set of axes\n",
    "ax[0].plot(x1, y1)\n",
    "ax[0].set_title(\"Y = X Graph\")\n",
    "ax[0].set_xlabel(\"X\")\n",
    "ax[0].set_ylabel(\"Y\")\n",
    "\n",
    "# Plot on the second set of axes\n",
    "ax[1].plot(x2, y2)\n",
    "ax[1].set_title(\"Y = X^2 Graph\")\n",
    "ax[1].set_xlabel(\"X\")\n",
    "ax[1].set_ylabel(\"Y\")\n",
    "\n",
    "# Display the figure\n",
    "fig"
   ]
  },
  {
   "cell_type": "markdown",
   "metadata": {},
   "source": [
    "A common issue with matplotlib is overlapping subplots or figures. we can use *fig.tight_layout()* or *plt.tight_layout()* method which will automatically adjust the position of the axes on the figure canvas so that there is no overlapping subplots.\n"
   ]
  },
  {
   "cell_type": "code",
   "execution_count": null,
   "metadata": {},
   "outputs": [],
   "source": [
    "# Automatically adjust the axes to prevent subplots from overlapping with each other\n",
    "fig.tight_layout()\n",
    "\n",
    "# Display the figure after adjusting\n",
    "fig"
   ]
  },
  {
   "cell_type": "markdown",
   "metadata": {},
   "source": [
    "### Matplotlib Styling\n",
    "In the following session, you will learn how you can customize your plot by changing the line color, line type, line width, and a lot more!"
   ]
  },
  {
   "cell_type": "markdown",
   "metadata": {},
   "source": [
    "First, let's learn about legend. Legend is mainly used to descriobe the elements of the graph. In order to add legend to your figure you are required to label all the plots in your figure, using the **label** keyword argument."
   ]
  },
  {
   "cell_type": "code",
   "execution_count": null,
   "metadata": {},
   "outputs": [],
   "source": [
    "# Defines data to be plotted as a graph\n",
    "x1 = [0, 1, 2, 3, 4, 5, 6, 7, 8, 9, 10]\n",
    "y1 = [0, 1, 2, 3, 4, 5, 6, 7, 8, 9, 10]\n",
    "\n",
    "x2 = [0, 1, 2, 3, 4, 5, 6, 7, 8, 9, 10]\n",
    "y2 = [0, 1, 4, 9, 16, 25, 36, 49, 64, 81, 100]\n",
    "\n",
    "# Create an empty figure\n",
    "fig = plt.figure()\n",
    "\n",
    "# Add a set of axes to the figure\n",
    "ax = fig.add_axes([0, 0, 1, 1])\n",
    "\n",
    "# Plot twice on the axes\n",
    "ax.plot(x1, y1, label=\"x\")\n",
    "ax.plot(x2, y2, label=\"x^2\")\n",
    "\n",
    "# Add legend to the figure\n",
    "ax.legend();"
   ]
  },
  {
   "cell_type": "markdown",
   "metadata": {},
   "source": [
    "The **legend** function takes an optional keyword argument **loc** that can be used to specify where in the figure the legend is to be drawn, in which, when:\n",
    "\n",
    "- **legend(loc=0)** places the legend in the optimal location, prevent overlapping with the actual plot\n",
    "- **legend(loc=1)** places the legend in the upper right corner\n",
    "- **legend(loc=2)** places the legend in the upper left corner\n",
    "- **legend(loc=3)** places the legend in the lower left corner\n",
    "- **legend(loc=4)** places the legend in the lower right corner\n",
    "\n",
    "The value of the **loc** argument is 0 by default. Run the following cell to see the differences!"
   ]
  },
  {
   "cell_type": "code",
   "execution_count": null,
   "metadata": {},
   "outputs": [],
   "source": [
    "# Create empty canvas with 2 rows and 2 columns of subplot\n",
    "fig, ax = plt.subplots(2,2)\n",
    "\n",
    "# Legend at top right corner\n",
    "ax[0][0].plot(x1, y1, label=\"x\")\n",
    "ax[0][0].legend(loc=1)\n",
    "\n",
    "# Legend at top left corner\n",
    "ax[0][1].plot(x1, y1, label=\"x\")\n",
    "ax[0][1].legend(loc=2)\n",
    "\n",
    "# Legend at lower left corner\n",
    "ax[1][0].plot(x1, y1, label=\"x\")\n",
    "ax[1][0].legend(loc=3)\n",
    "\n",
    "# Legend at lower right corner\n",
    "ax[1][1].plot(x1, y1, label=\"x\")\n",
    "ax[1][1].legend(loc=4)"
   ]
  },
  {
   "cell_type": "markdown",
   "metadata": {},
   "source": [
    "Next, let's learn about the how we can change the line color, line width and line type! Matplotlib gives you a lot of options for customizing colors, linewidths, and linetypes."
   ]
  },
  {
   "cell_type": "markdown",
   "metadata": {},
   "source": [
    "To change the line color of the plots, you need to declare the color of the plot using the **color** keyword argument, right when you are plotting the graph. You can also change the transparency of your plot using the **alpha** keyword argument.\n",
    "\n",
    "Run the following cell."
   ]
  },
  {
   "cell_type": "code",
   "execution_count": null,
   "metadata": {},
   "outputs": [],
   "source": [
    "# Create empty canvas with 2 rows and 2 columns of subplot\n",
    "fig, ax = plt.subplots(2,2)\n",
    "\n",
    "# Red line color\n",
    "ax[0][0].plot(x1, y1, color=\"red\")\n",
    "\n",
    "# Blue line color\n",
    "ax[0][1].plot(x1, y1, color=\"blue\")\n",
    "\n",
    "# Blue line color with half-transparency\n",
    "ax[1][0].plot(x1, y1, color=\"blue\", alpha=0.5)\n",
    "\n",
    "# RGB hex code\n",
    "ax[1][1].plot(x1, y1, color=\"#FF8C00\")"
   ]
  },
  {
   "cell_type": "markdown",
   "metadata": {},
   "source": [
    "To change the line width of the plots, you need to declare the line width of the plot using the **linewidth** or **lw** keyword argument.\n",
    "\n",
    "Run the following cell."
   ]
  },
  {
   "cell_type": "code",
   "execution_count": null,
   "metadata": {},
   "outputs": [],
   "source": [
    "# Create empty canvas with 2 rows and 2 columns of subplot\n",
    "fig, ax = plt.subplots(2,2)\n",
    "\n",
    "# Line width 0.25\n",
    "ax[0][0].plot(x1, y1, linewidth=\"0.25\")\n",
    "\n",
    "# Line width 0.5\n",
    "ax[0][1].plot(x1, y1, linewidth=\"0.5\")\n",
    "\n",
    "# Line width 1\n",
    "ax[1][0].plot(x1, y1, lw=\"1\")\n",
    "\n",
    "# Line width 5\n",
    "ax[1][1].plot(x1, y1, lw=\"5\")"
   ]
  },
  {
   "cell_type": "markdown",
   "metadata": {},
   "source": [
    "To change the line width of the plots, you need to declare the line width of the plot using the **linestyle** or **ls** keyword argument.\n",
    "\n",
    "Run the following cell."
   ]
  },
  {
   "cell_type": "code",
   "execution_count": null,
   "metadata": {},
   "outputs": [],
   "source": [
    "# Some possible line style options include ‘--‘, ‘–’, ‘-.’, ‘:’ and ‘steps’\n",
    "\n",
    "# Create empty canvas with 2 rows and 2 columns of subplot\n",
    "fig, ax = plt.subplots(2,2)\n",
    "\n",
    "# Solid line \n",
    "ax[0][0].plot(x1, y1, linestyle='-')\n",
    "\n",
    "# Dash and dot line\n",
    "ax[0][1].plot(x1, y1, linestyle=\"-.\")\n",
    "\n",
    "# Dots line\n",
    "ax[1][0].plot(x1, y1, ls=\":\")\n",
    "\n",
    "# Dashes line\n",
    "ax[1][1].plot(x1, y1, ls=\"--\")"
   ]
  },
  {
   "cell_type": "markdown",
   "metadata": {},
   "source": [
    "Lastly, let's learn about the markers. You can use the **marker** keyword argument to emphasize each point with a specified marker, and the **markersize** or **ms** keyword argument to declare the marker size.\n",
    "\n",
    "Run the following cell."
   ]
  },
  {
   "cell_type": "code",
   "execution_count": null,
   "metadata": {},
   "outputs": [],
   "source": [
    "# Some possible marker type options include ‘+‘, ‘o’, ‘s’ and ‘1’\n",
    "\n",
    "# Create empty canvas with 2 rows and 2 columns of subplot\n",
    "fig, ax = plt.subplots(2,2)\n",
    "\n",
    "#  '+' type marker\n",
    "ax[0][0].plot(x1, y1, marker='+', markersize=10)\n",
    "\n",
    "# 'o' type marker\n",
    "ax[0][1].plot(x1, y1, marker=\"o\", markersize=5)\n",
    "\n",
    "# 's' type marker\n",
    "ax[1][0].plot(x1, y1, marker=\"s\", ms=5)\n",
    "\n",
    "# '1' type marker\n",
    "ax[1][1].plot(x1, y1, marker=\"1\", ms=10)"
   ]
  },
  {
   "cell_type": "code",
   "execution_count": null,
   "metadata": {},
   "outputs": [],
   "source": [
    "# CODE HERE"
   ]
  },
  {
   "cell_type": "markdown",
   "metadata": {},
   "source": [
    "---\n",
    "---\n",
    "## **Seaborn**\n",
    "\n",
    "Seaborn is the children of Matplotlib. It builds on top of Matplotlib and integrates closely with the pandas dat structure. With just a few lines of Python code, the user can create beautiful graphs for performing data visualization and exploratory data analysis.\n",
    "\n",
    "Some of the major pros of Seaborn are:\n",
    "- Its default aesthetics are much more visually appealing than matplotlib\n",
    "- Easy to customize the aesthetics\n",
    "- Great control of every element in a figure\n",
    "- High-quality output in many formats\n",
    "- Very customizable in general\n",
    "\n",
    "### Importing\n",
    "Run the following cell to import the **seaborn** and **pandas** library with the name `sns` and `pd` by convention respectively."
   ]
  },
  {
   "cell_type": "code",
   "execution_count": null,
   "metadata": {},
   "outputs": [],
   "source": [
    "import seaborn as sns\n",
    "import pandas as pd"
   ]
  },
  {
   "cell_type": "markdown",
   "metadata": {},
   "source": [
    "### Reading Dataset\n",
    "Run the following cell to gain some information regarding the dataset."
   ]
  },
  {
   "cell_type": "code",
   "execution_count": null,
   "metadata": {},
   "outputs": [],
   "source": [
    "# Read the csv (comma-separated values) file using pandas and store it inside a variable 'df'\n",
    "df = pd.read_csv(\"Data/dm_office_sales.csv\")\n",
    "\n",
    "# Show the first five data from the dataset\n",
    "df.head()"
   ]
  },
  {
   "cell_type": "markdown",
   "metadata": {},
   "source": [
    "To obtain the size of the dataset, you need to run the **shape** property using pandas. Note that the value is in the form of tuple (A, B), which are,\n",
    "\n",
    "`A` - Number of rows  \n",
    "`B` - Number of columns"
   ]
  },
  {
   "cell_type": "code",
   "execution_count": null,
   "metadata": {},
   "outputs": [],
   "source": [
    "df.shape"
   ]
  },
  {
   "cell_type": "markdown",
   "metadata": {},
   "source": [
    "Hence, this dataset consists of 1000 rows and 6 columns, which are division, level of education, training level, work experience, salary and sales."
   ]
  },
  {
   "cell_type": "markdown",
   "metadata": {},
   "source": [
    "---\n",
    "### **Scatter Plot**\n",
    "Scatter plots can show how different features are related to one another, the main theme between all relational plot types is they display how features (which also known as columns) are interconnected to each other. There are many different types of plots that can be used to show this, so let's explore the `scatterplot()` as well as general seaborn parameters applicable to other plot types.  \n",
    "\n",
    "Run the following cell."
   ]
  },
  {
   "cell_type": "code",
   "execution_count": null,
   "metadata": {},
   "outputs": [],
   "source": [
    "# This code will plot the scatterplot between salary and sales, using the data that is stored inside 'df' variable\n",
    "sns.scatterplot(x='salary', y='sales', data=df)"
   ]
  },
  {
   "cell_type": "markdown",
   "metadata": {},
   "source": [
    "### Connecting to Figure in Matplotlib\n",
    "For your information, matplotlib is connected to seaborn underneath (even without importing `matplotlib.pyplot`) as seaborn itself is directly making a Figure call with matplotlib. We can import `matplotlib.pyplot` and make calls to directly effect the seaborn figure.  \n",
    "\n",
    "Run the following code."
   ]
  },
  {
   "cell_type": "code",
   "execution_count": null,
   "metadata": {},
   "outputs": [],
   "source": [
    "# Import the pyplot graphic library from the matplotlib\n",
    "import matplotlib.pyplot as plt"
   ]
  },
  {
   "cell_type": "code",
   "execution_count": null,
   "metadata": {},
   "outputs": [],
   "source": [
    "# Set the figure size to (12,8)\n",
    "plt.figure(figsize=(12,8))\n",
    "\n",
    "# Plot scatterplot using seaborn\n",
    "sns.scatterplot(x='salary', y='sales', data=df)"
   ]
  },
  {
   "cell_type": "markdown",
   "metadata": {},
   "source": [
    "---\n",
    "### **Seaborn Parameters**\n",
    "The `hue` and `palette` parameters are commonly available around many plot calls in seaborn. Some parameters, such as `size`, `alpha`, `linewidth` and `style` are specified for certain plots only.\n",
    "\n",
    "#### **Hue**\n",
    "Color points based off a categorical feature in the dataframe. Basically it allows you to display the tertiary feature on the plot.\n",
    "\n",
    "Run the following cell."
   ]
  },
  {
   "cell_type": "code",
   "execution_count": null,
   "metadata": {},
   "outputs": [],
   "source": [
    "# Plot the scatterplot. Each marker (data point) is colored based on its 'division' value.\n",
    "sns.scatterplot(x='salary',y='sales',data=df,hue='division')"
   ]
  },
  {
   "cell_type": "markdown",
   "metadata": {},
   "source": [
    "If the feature given to hue parameter is a numerical, the marker will be colored to a same color with different intensity.\n",
    "\n",
    "Run the following cell."
   ]
  },
  {
   "cell_type": "code",
   "execution_count": null,
   "metadata": {},
   "outputs": [],
   "source": [
    "# Plot the scatterplot. Each marker (data point) is colored based on its 'work experience' value.\n",
    "sns.scatterplot(x='salary',y='sales',data=df,hue='work experience')"
   ]
  },
  {
   "cell_type": "markdown",
   "metadata": {},
   "source": [
    "#### **Palette**\n",
    "Instead of using the default color, you can customize it using `palette` parameter. There are lots of patlette [options](https://matplotlib.org/stable/tutorials/colors/colormaps.html) to choose from.  \n",
    "\n",
    "Run the following cell."
   ]
  },
  {
   "cell_type": "code",
   "execution_count": null,
   "metadata": {},
   "outputs": [],
   "source": [
    "# Plot the scatterplot using 'work experience\" as the hue parameter, and set the palette parameter to 'viridis'.\n",
    "sns.scatterplot(x='salary',y='sales',data=df,hue='work experience',palette='viridis')"
   ]
  },
  {
   "cell_type": "markdown",
   "metadata": {},
   "source": [
    "#### **Size**\n",
    "Parameter `s` allows you to change the marker size.\n",
    "\n",
    "#### **Alpha**\n",
    "Sometimes the markers are overlapped with one another, making it harder to visualize the amount of data for a particular value. Hence, parameter `alpha` is used to control the transparency of plots. \n",
    "\n",
    "#### **Linewidth**\n",
    "To adjust the width of the line, parameter `linewidth` is used for that purpose.\n",
    "\n",
    "Run the following cell."
   ]
  },
  {
   "cell_type": "code",
   "execution_count": null,
   "metadata": {},
   "outputs": [],
   "source": [
    "# Set the figure size to (12,8).\n",
    "plt.figure(figsize=(12,8))\n",
    "\n",
    "# Plot a scatterplot. The marker size is set to 200, line width is set to 0 and the alpha (transparency) is set to 0.2.\n",
    "sns.scatterplot(x='salary',y='sales',data=df,s=200,linewidth=0,alpha=0.2)"
   ]
  },
  {
   "cell_type": "markdown",
   "metadata": {},
   "source": [
    "#### **Style**\n",
    "Paramete `style` will automatically choose styles based on the given categorical feature in the dataset. To put it simply, it allows you to display the fourth feature on the plot if you have use `hue` parameter.  \n",
    "\n",
    "Optionally use the markers = [parameter] to pass a list of marker choices based off matplotlib, for example: ['*','+','o'].\n",
    "\n",
    "Run the following cell."
   ]
  },
  {
   "cell_type": "code",
   "execution_count": null,
   "metadata": {},
   "outputs": [],
   "source": [
    "# Set the figure size to (12,8).\n",
    "plt.figure(figsize=(12,8))\n",
    "\n",
    "# Plot a scatterplot with the intended style, hue and marker size.\n",
    "sns.scatterplot(x='salary',y='sales',data=df,style='level of education',hue='level of education',s=100)"
   ]
  },
  {
   "cell_type": "markdown",
   "metadata": {},
   "source": [
    "---\n",
    "### **Distribution Plots**\n",
    "\n",
    "#### **Histogram**\n",
    "Histograms represent the data distribution by forming bins along the range of the data and then drawing bars to show the number of observations that fall in each bin (range). This allows you to see the frequency distribution of a dataset.\n",
    "\n",
    "Run the following cell."
   ]
  },
  {
   "cell_type": "code",
   "execution_count": null,
   "metadata": {},
   "outputs": [],
   "source": [
    "# Plot the frequency distribution for the feature 'salary' using the dataset from variable 'df'\n",
    "sns.displot(data=df, x='salary')"
   ]
  },
  {
   "cell_type": "code",
   "execution_count": null,
   "metadata": {},
   "outputs": [],
   "source": [
    "# Another method to plot the exactly same histogram\n",
    "sns.histplot(data=df,x='salary')"
   ]
  },
  {
   "cell_type": "markdown",
   "metadata": {},
   "source": [
    "To adjust the number of bins, just set the `bins` parameter.\n",
    "\n",
    "Run the following cell."
   ]
  },
  {
   "cell_type": "code",
   "execution_count": null,
   "metadata": {},
   "outputs": [],
   "source": [
    "# Plot histogram with 10 bins\n",
    "sns.histplot(data=df,x='salary',bins=10)"
   ]
  },
  {
   "cell_type": "code",
   "execution_count": null,
   "metadata": {},
   "outputs": [],
   "source": [
    "# Plot histogram with 100 bins\n",
    "sns.histplot(data=df,x='salary',bins=100)"
   ]
  },
  {
   "cell_type": "markdown",
   "metadata": {},
   "source": [
    "And of course, you can customize the histogram based on your preferences.\n",
    "\n",
    "Run the following cell."
   ]
  },
  {
   "cell_type": "code",
   "execution_count": null,
   "metadata": {},
   "outputs": [],
   "source": [
    "# Bins number is set to 20\n",
    "# Bar is colored red\n",
    "# Line edge is colored black\n",
    "# Line width is set to 4\n",
    "# Line style is set to '--'\n",
    "sns.displot(data=df,x='salary',bins=20, color='red',edgecolor='black', lw=4, ls='--')"
   ]
  },
  {
   "cell_type": "markdown",
   "metadata": {},
   "source": [
    "Kernel density estimation (Kde) is one of the useful techniques for estimation of probability density function as it enables the data scientists to better analyse the studied probability distribution than when using a traditional histogram.\n",
    "\n",
    "Kernel (continuous curve) is drawn at every individual data point and then all these curves are added together to make a single smoothened density estimation. Histogram fails when we want to compare the data distribution of a single variable over the multiple categories at that time.\n",
    "\n",
    "To show kde on top of the histogram, just set the `kde` parameter to **`True`**.\n",
    "\n",
    "Run the following cell."
   ]
  },
  {
   "cell_type": "code",
   "execution_count": null,
   "metadata": {},
   "outputs": [],
   "source": [
    "# Plot the histogram with kde\n",
    "sns.displot(data=df,x='salary',kde=True)"
   ]
  },
  {
   "cell_type": "markdown",
   "metadata": {},
   "source": [
    "#### **Kernel Density Estimation Plot**\n",
    "Kde can be plotted on its own graph as well using `kdeplot()` method.\n",
    "\n",
    "Run the following cell."
   ]
  },
  {
   "cell_type": "code",
   "execution_count": null,
   "metadata": {},
   "outputs": [],
   "source": [
    "# Plot kdeplot for 'salary' from the dataset stored in the variable 'df'\n",
    "sns.kdeplot(data=df, x='salary')"
   ]
  },
  {
   "cell_type": "markdown",
   "metadata": {},
   "source": [
    "If you want to show kde for a specific range of values, just put the range inside `clip` parameter.\n",
    "\n",
    "Run the following cell."
   ]
  },
  {
   "cell_type": "code",
   "execution_count": null,
   "metadata": {},
   "outputs": [],
   "source": [
    "# Plot kdeplot for 'salary' from the range 60000 to 120000\n",
    "sns.kdeplot(data=df, x='salary', clip=[60000, 120000])"
   ]
  },
  {
   "cell_type": "markdown",
   "metadata": {},
   "source": [
    "Kernel has a property called as **`bandwith`**. By affecting the bandwidth of the kernel, this will make the Kde more sensitive to the data. Notice how with a smaller bandwith, the kernels don't stretch so wide, meaning we don't need the cut-off anymore. This is analagous to increasing the number of bins in a histogram. This is simply done by giving a value to the `bw_adjust` parameter.\n",
    "\n",
    "Run the following cell."
   ]
  },
  {
   "cell_type": "code",
   "execution_count": null,
   "metadata": {},
   "outputs": [],
   "source": [
    "# Plot kdeplot for 'salary' with a bandwidth of 0.1\n",
    "sns.kdeplot(data=df, x='salary', bw_adjust=0.1)"
   ]
  },
  {
   "cell_type": "code",
   "execution_count": null,
   "metadata": {},
   "outputs": [],
   "source": [
    "# Plot kdeplot for 'salary' with a bandwidth of 0.5\n",
    "sns.kdeplot(data=df, x='salary', bw_adjust=0.5)"
   ]
  },
  {
   "cell_type": "code",
   "execution_count": null,
   "metadata": {},
   "outputs": [],
   "source": [
    "# Plot kdeplot for 'salary' with a bandwidth of 1\n",
    "sns.kdeplot(data=df, x='salary', bw_adjust=1)"
   ]
  },
  {
   "cell_type": "markdown",
   "metadata": {},
   "source": [
    "---\n",
    "### **Categorical Plots**\n",
    "\n",
    "#### Statistical Estimation \n",
    "\n",
    "Often we have categorical data, meaning the data is in distinct groupings, such as Countries or Companies. There is no country value \"between\" USA and France and there is no company value \"between\" Google and Apple, unlike continuous data where we know values can exist between data points, such as age or price.\n",
    "\n",
    "To begin with categorical plots, we'll focus on **statistical estimation** within categories. Basically this means we will visually report back some statistic (such as mean or count) in a plot."
   ]
  },
  {
   "cell_type": "markdown",
   "metadata": {},
   "source": [
    "#### **Count Plot**\n",
    "It is a simple plot that shows the total count of rows per category.\n",
    "\n",
    "Run the following cell."
   ]
  },
  {
   "cell_type": "code",
   "execution_count": null,
   "metadata": {},
   "outputs": [],
   "source": [
    "# Set figure size to (10,4) with a higher resolution\n",
    "plt.figure(figsize=(10,4), dpi=200)\n",
    "\n",
    "# Plot the countplot for the category in the feature 'level of education' using the dataset from the variable 'df'\n",
    "sns.countplot(x='level of education', data=df)"
   ]
  },
  {
   "cell_type": "markdown",
   "metadata": {},
   "source": [
    "Also, each category within a feature (A) can be breakdown to categories of another feature (B) using the `hue` that we have learnt just now.\n",
    "\n",
    "Run the following cell."
   ]
  },
  {
   "cell_type": "code",
   "execution_count": null,
   "metadata": {},
   "outputs": [],
   "source": [
    "# Set figure size to (10,4) and generate graph with a higher quality\n",
    "plt.figure(figsize=(10,4), dpi=200)\n",
    "\n",
    "# Plot the countplot for the category in the feature 'level of education', in which these category will be separated based on the categories of 'training level'\n",
    "sns.countplot(x='level of education', data=df, hue='training level')"
   ]
  },
  {
   "cell_type": "markdown",
   "metadata": {},
   "source": [
    "#### **Bar Plot**\n",
    "Barplot is one of the most common types of graphics. It shows the relationship between a numeric and a categoric variable. Each entity of the categoric variable is represented as a bar. The size of the bar represents its numeric value.  \n",
    "\n",
    "In seaborn, if the plotted feature has multiple values for a single category, it will plot the mean for that particular category.\n",
    "\n",
    "Run the following cell."
   ]
  },
  {
   "cell_type": "code",
   "execution_count": null,
   "metadata": {},
   "outputs": [],
   "source": [
    "# Set figure size to (12,6) and generate graph with a high quality\n",
    "plt.figure(figsize=(12,6), dpi=100)\n",
    "\n",
    "# Plot the barplot for the 'level of education' versus 'salary', using the dataset from the variable 'df'\n",
    "sns.barplot(x='level of education', y='salary', data=df)"
   ]
  },
  {
   "cell_type": "markdown",
   "metadata": {},
   "source": [
    "On top of the bars, you can see there is a black line. This is the error bar. It displays either confidence intervals or the standard deviation which is quite useful when doing statistical analysis. The black line will not be shown if the `ci` parameter is set to 0.\n",
    "\n",
    "For more information, please select the links below:  \n",
    "1. [What is the black line](https://stackoverflow.com/questions/58362473/what-does-black-lines-on-a-seaborn-barplot-mean)\n",
    "2. [Parameter of the barplot](https://seaborn.pydata.org/generated/seaborn.barplot.html)"
   ]
  },
  {
   "cell_type": "markdown",
   "metadata": {},
   "source": [
    "To remove the black line and separate 'level of education' based on 'division' feature, run the following cell."
   ]
  },
  {
   "cell_type": "code",
   "execution_count": null,
   "metadata": {},
   "outputs": [],
   "source": [
    "# Set figure size to (12,6) and generate graph with a high quality\n",
    "plt.figure(figsize=(12,6), dpi=100)\n",
    "\n",
    "# Plot the barplot for the 'level of education' versus 'salary', in which each category within 'level of education' will be separated based on categories of 'division'\n",
    "sns.barplot(x='level of education', y='salary', data=df, ci=0, hue='division')\n",
    "\n",
    "# Move the legend away from the graph\n",
    "plt.legend(bbox_to_anchor=(1.05, 1))"
   ]
  },
  {
   "cell_type": "markdown",
   "metadata": {},
   "source": [
    "You will notice that the legend is not inside the graph. This is because the legend is moved using the method `bbox_to_anchor`. The parameter given must be in the form of (a, b), in which 'a' refers the x-axis position and 'b' refers to the y-axis position for the legend. For more information, you can visit this [link](https://stackoverflow.com/questions/30490740/move-legend-outside-figure-in-seaborn-tsplot). Feel free to play around with it to get a hang of it."
   ]
  },
  {
   "cell_type": "markdown",
   "metadata": {},
   "source": [
    "---\n",
    "#### Distribution within Categories\n",
    "\n",
    "So far we've seen how to apply a statistical estimation (like mean or count) to categories and compare them to one another. Let's now explore how to visualize the distribution within categories. We already know about distplot() which allows to view the distribution of a single feature, now we will break down that same distribution per category.\n",
    "\n",
    "Run the following cell to import new dataset `StudentsPerformance` and check its data."
   ]
  },
  {
   "cell_type": "code",
   "execution_count": null,
   "metadata": {},
   "outputs": [],
   "source": [
    "# Read the csv (comma-separated values) file using pandas and store it inside a variable 'df'\n",
    "df = pd.read_csv(\"Data/StudentsPerformance.csv\")\n",
    "\n",
    "# Show the first five data from the dataset\n",
    "df.head()"
   ]
  },
  {
   "cell_type": "markdown",
   "metadata": {},
   "source": [
    "#### **Box Plot**\n",
    "A boxplot display distribution through the use of quartiles and an Interquartile Range (IQR) for outliers.\n",
    "\n",
    "> **Quartile**<br><br>\n",
    "A statistical term that describes a division of observations into four defined intervals based on the values of the data and how they compare to the entire set of observations (data). Each interval contains 25% of the total observations.\n",
    "<br><br><br>\n",
    "> **Interquartile Range**<br><br>\n",
    "It measures the spread of the middle half of the total observations, allowing us to assess the variability where most of the data lies.\n"
   ]
  },
  {
   "cell_type": "markdown",
   "metadata": {},
   "source": [
    "Run the following cell."
   ]
  },
  {
   "cell_type": "code",
   "execution_count": null,
   "metadata": {},
   "outputs": [],
   "source": [
    "# Set the figure size to (12,6)\n",
    "plt.figure(figsize=(12,6))\n",
    "\n",
    "# Plot a box plot for 'parental level of education' versus 'math score' using the data from the variable 'df'\n",
    "sns.boxplot(x='parental level of education',y='math score',data=df)"
   ]
  },
  {
   "cell_type": "markdown",
   "metadata": {},
   "source": [
    "The boxplot is used to show the following information:\n",
    "\n",
    "\n",
    "![box_plot_anatomy](Assets/box_plot_anatomy.png)\n",
    "\n",
    "Boxplot is important for data scientist to identify the existence of the outliers within the dataset, which then will be removed before doing any further action such as building a machine learning model.\n",
    "\n",
    "Note that you can add `hue` parameter to the boxplot as well to further separate the categories. Run the follwing cell."
   ]
  },
  {
   "cell_type": "code",
   "execution_count": null,
   "metadata": {},
   "outputs": [],
   "source": [
    "# Set the figure size to (12,6)\n",
    "plt.figure(figsize=(12,6))\n",
    "\n",
    "# Plot a box plot with 'gender' as the hue parameter \n",
    "sns.boxplot(x='parental level of education',y='math score',data=df,hue='gender')\n",
    "\n",
    "# Move the legend outside\n",
    "plt.legend(bbox_to_anchor=(1.05, 1))"
   ]
  },
  {
   "cell_type": "markdown",
   "metadata": {},
   "source": [
    "#### **Violin Plot**\n",
    "It shows the distribution of quantitative data across several levels of one (or more) categorical variables such that those distributions can be compared. Unlike a box plot, in which all of the plot components correspond to actual datapoints, the violin plot features a kernel density estimation of the underlying distribution.\n",
    "\n",
    "Run the following cell."
   ]
  },
  {
   "cell_type": "code",
   "execution_count": null,
   "metadata": {},
   "outputs": [],
   "source": [
    "# Set the figure size to (12,6)\n",
    "plt.figure(figsize=(12,6))\n",
    "\n",
    "# Plot a violin plot for 'parental level of education' versus 'math score' using the data from the variable 'df',\n",
    "# and separate the categories within x values based on 'gender'\n",
    "sns.violinplot(x='parental level of education',y='math score',data=df,hue='gender')"
   ]
  },
  {
   "cell_type": "markdown",
   "metadata": {},
   "source": [
    "---\n",
    "### **Comparison Plots**\n",
    "\n",
    "#### **Joint Plot** \n",
    "\n",
    "![joint_plot](Assets/Joint_plot.png)\n",
    "\n",
    "A jointplot comprises three plots. \n",
    "\n",
    "Out of the three, one plot displays a bivariate graph which shows how the dependent variable(Y) varies with the independent variable(X). Another plot is placed horizontally at the top of the bivariate graph and it shows the distribution of the independent variable(X). The third plot is placed on the right margin of the bivariate graph with the orientation set to vertical and it shows the distribution of the dependent variable(Y). \n",
    "\n",
    "It is very helpful to have univariate and bivariate plots together in one figure. This is because the univariate analysis focuses on one variable, it describes, summarizes and shows any patterns in your data and the bivariate analysis explores the relationship between two variables and also describes the strength of their relationship.\n",
    "\n",
    "Run the following cell."
   ]
  },
  {
   "cell_type": "code",
   "execution_count": null,
   "metadata": {},
   "outputs": [],
   "source": [
    "# Plot a joint plot between 'math score' versus 'reading score' using the data stored in the variable 'df'\n",
    "sns.jointplot(x='math score',y='reading score',data=df)"
   ]
  },
  {
   "cell_type": "markdown",
   "metadata": {},
   "source": [
    "Instead of displaying scatterplot, the jointplot can also display the marker in the form of `hexbin` of `bivariate kde`. Just change the **`kind`** parameter when calling jointplot(). Run the following cell to see the differences."
   ]
  },
  {
   "cell_type": "code",
   "execution_count": null,
   "metadata": {},
   "outputs": [],
   "source": [
    "# Plot a joint plot with the marker 'scatter'\n",
    "sns.jointplot(x='math score',y='reading score',data=df,kind='scatter')"
   ]
  },
  {
   "cell_type": "code",
   "execution_count": null,
   "metadata": {},
   "outputs": [],
   "source": [
    "# Plot a joint plot with the marker 'hex'\n",
    "sns.jointplot(x='math score',y='reading score',data=df,kind='hex')"
   ]
  },
  {
   "cell_type": "code",
   "execution_count": null,
   "metadata": {},
   "outputs": [],
   "source": [
    "# Plot a joint plot with the marker 'kde'\n",
    "sns.jointplot(x='math score',y='reading score',data=df,kind='kde')"
   ]
  },
  {
   "cell_type": "markdown",
   "metadata": {},
   "source": [
    "#### **Pair Plot** \n",
    "\n",
    "To plot multiple pairwise bivariate distributions in a dataset, you can use the `pairplot() function`. This shows the relationship for (n, 2) combination of variable in a dataframe as a matrix of plots and the diagonal plots are the univariate plots. It is used to find the relationship between them where the variables can be continuous or categorical.\n",
    "\n",
    "Run the following cell."
   ]
  },
  {
   "cell_type": "code",
   "execution_count": null,
   "metadata": {},
   "outputs": [],
   "source": [
    "# Plot the pairplot for the dataset\n",
    "sns.pairplot(df)"
   ]
  },
  {
   "cell_type": "markdown",
   "metadata": {},
   "source": [
    "And same goes with the pairplot, you can give a `hue` parameter and customize its color using `palette` option.\n",
    "\n",
    "Run the following cell."
   ]
  },
  {
   "cell_type": "code",
   "execution_count": null,
   "metadata": {},
   "outputs": [],
   "source": [
    "# Plot a pairplot for the dataset, in which each continuous variables are separated based on 'gender' category and colored with 'viridis' style\n",
    "sns.pairplot(df,hue='gender',palette='viridis')"
   ]
  },
  {
   "cell_type": "markdown",
   "metadata": {},
   "source": [
    "You will notice that the scatterplots of the upper diagonal is essentially similar to the bottom ones. To remove these duplicated scatterplots, just set the `corner` varibale to **`True`**.\n",
    "\n",
    "Run the following cell."
   ]
  },
  {
   "cell_type": "code",
   "execution_count": null,
   "metadata": {},
   "outputs": [],
   "source": [
    "# Plot the pairplot without upper diagonal\n",
    "sns.pairplot(df,hue='gender',palette='viridis',corner=True)"
   ]
  },
  {
   "cell_type": "markdown",
   "metadata": {},
   "source": [
    "---\n",
    "---\n",
    "\n",
    "# **End of Tutorials 🔚**\n",
    "Congratulations, You have reached the end of the tutorial section! Throughout these notes, you have mastered the basic techniques when using **matplotlib** and **seaborn** libraries. Certainly, the things that we have taught here is just minor, as we left out a lot of specific details and information for some methods mentioned above. For those who are interested in learning more about these libraries, just browse on Google, YouTube, StackOverflow or any learning website to get more familiar with them."
   ]
  },
  {
   "cell_type": "markdown",
   "metadata": {},
   "source": [
    "---\n",
    "---\n",
    "\n",
    "# **Challenge Ahead 🐱‍💻**\n",
    "The challenges are broken down into 3 parts, each with different difficulties. The harder the challenge is, the higher the mark that you will obtain ***if and only if*** you manage to solve them. If you encounter any problems or technical issues, feel free to contact the stuff members. Remember, Google and StackOverflow are always with you from time to time. Good luck and let's start the challenges!\n",
    "\n",
    "---"
   ]
  }
 ],
 "metadata": {
  "kernelspec": {
   "display_name": "Python 3 (ipykernel)",
   "language": "python",
   "name": "python3"
  },
  "language_info": {
   "codemirror_mode": {
    "name": "ipython",
    "version": 3
   },
   "file_extension": ".py",
   "mimetype": "text/x-python",
   "name": "python",
   "nbconvert_exporter": "python",
   "pygments_lexer": "ipython3",
   "version": "3.10.6"
  },
  "vscode": {
   "interpreter": {
    "hash": "369f2c481f4da34e4445cda3fffd2e751bd1c4d706f27375911949ba6bb62e1c"
   }
  }
 },
 "nbformat": 4,
 "nbformat_minor": 2
}
