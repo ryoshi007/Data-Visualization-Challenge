{
 "cells": [
  {
   "cell_type": "markdown",
   "metadata": {},
   "source": [
    "# **Data Visualization** #\n",
    "\n",
    "Greeting, challengers! In this station, you will learn on how to convert data and information into beautiful graphics by using Python. Visual elements like charts, graphs and maps provide an accessible way to see and understand trends, outliers and patterns in data. This step is essentially important when the data scientists want to perform exploratory data analysis (EDA) before creating a machine learning model. It is also used to present the findings from the data in a more visual appeal way, because who likes to see a bunch of lengthy sentences when a beautiful graph can summarise all of these at once?\n",
    "\n",
    "<br>\n",
    "\n",
    "![Introduction%20Picture.png](Assets/Introduction%20Picture.png)"
   ]
  },
  {
   "cell_type": "markdown",
   "metadata": {},
   "source": [
    "---\n",
    "\n",
    "## **Know Your Tools**\n",
    "Below are the tools and libraries that will be used for this tutorial and challenges.\n",
    "\n",
    "<br>\n",
    "\n",
    "> **Jupyter Notebook**<br><br>\n",
    "Number one go-to tool for data scientists. It offers an interactive web interface that can be used for data visualization, easy analysis, modelling and collaboration\n",
    "<br><br><br>\n",
    "> **Pandas**<br><br>\n",
    "An open-source Python library that provides high-performance, easy-to-use data structure and data analysis tools\n",
    "<br><br><br>\n",
    "> **Matplotlib**<br><br>\n",
    "A comprehensive library for creating static, animated and interactive visualizations in Python\n",
    "<br><br><br>\n",
    "> **Seaborn**<br><br>\n",
    "A library for making statistical graphics in Python. It is built on top of matplotlib and integrates closely with pandas data structures"
   ]
  },
  {
   "cell_type": "markdown",
   "metadata": {},
   "source": [
    "---\n",
    "\n",
    "## **Gear Up Yourself**\n",
    "*If you use your own laptop and did not install any tools mentioned above, please go through the following instructions. If you use the machine from the station, you can skip this part.*\n",
    "\n",
    "1. Install Jupyter by entering the following code into the command-line <br>\n",
    "```\n",
    "$ pip install jupyter\n",
    "```\n",
    "\n",
    "2. Next, install pandas, matplotlib and seaborn libraries <br>\n",
    "```\n",
    "$ pip install pandas \n",
    "$ pip install matplotlib\n",
    "$ pip install seaborn\n",
    "```\n",
    "\n",
    "3. After the installations are completed, start the Jupyter Notebook server. Type the command below in your terminal. <br>\n",
    "```\n",
    "$ jupyter notebook\n",
    "```\n",
    "\n",
    "    A Jupyter page showing files in the current directory will open in your computer's default browser. <br><br>\n",
    "    **Note: <font color=red>Do not close the terminal window that you run this command in. Your server will stop if you do so.</font>**\n",
    "\n",
    "<br>\n",
    "Great! That's all for the setup. Let's us begin the fun stuff!"
   ]
  },
  {
   "cell_type": "markdown",
   "metadata": {},
   "source": [
    "---\n",
    "\n",
    "# Tutorial Section\n",
    "This section will teach you the basic of the matplotlib and seaborn libraries. It will not provide mark but experience to those who are unfamiliar with these tools. If you are an expert in these libraries, you may scroll down or click [here](#challenge-section) to begin the challenges."
   ]
  },
  {
   "cell_type": "markdown",
   "metadata": {},
   "source": [
    "## Matplotlib\n",
    "\n",
    "Matplotlib is the \"grandfather\" library of data visualization with Python. It was created by John Hunter, and is an excellent 2D and 3D graphics library for generating scientific figures.\n",
    "\n",
    "Some of the major Pros of Matplotlib are:\n",
    "- Generally easy to get started for simple plots\n",
    "- Support for custom labels and texts\n",
    "- Great control of every element in a figure\n",
    "- High-quality output in many formats\n",
    "- Very customizable in general\n",
    "\n",
    "### Importing\n",
    "Run the following cell to import the **pyplot** graphic library from the **matplotlib** API with the name `plt` by convention."
   ]
  },
  {
   "cell_type": "code",
   "execution_count": null,
   "metadata": {},
   "outputs": [],
   "source": [
    "import matplotlib.pyplot as plt"
   ]
  },
  {
   "cell_type": "markdown",
   "metadata": {},
   "source": [
    "### Plot a Basic Graph\n",
    "Run the following cell:"
   ]
  },
  {
   "cell_type": "code",
   "execution_count": null,
   "metadata": {},
   "outputs": [],
   "source": [
    "# Defines data to be ploted as a graph\n",
    "x = [1,2,3,4,5,6,7,8]\n",
    "y = [2,4,6,8,10,12,14,16]\n",
    "\n",
    "# Plot the graph\n",
    "plt.plot(x, y)\n",
    "\n",
    "# Name the X and Y axes\n",
    "plt.xlabel('X Axis Title Here')\n",
    "plt.ylabel('Y Axis Title Here')\n",
    "\n",
    "# Name the title of the graph\n",
    "plt.title('String Title Here')\n",
    "\n",
    "# Display the graph\n",
    "plt.show()"
   ]
  },
  {
   "cell_type": "markdown",
   "metadata": {},
   "source": [
    "You should get the graph like this after running the code\n",
    "\n",
    "![basic_plot_1.png](Assets/basic_plot_1.png)"
   ]
  },
  {
   "cell_type": "markdown",
   "metadata": {},
   "source": [
    "Matplotlib generates the minimum and maximum values of variable to be presented along the x, y (and z-axis in the case of a 3D plot) axes of a plot automatically. However, it is possible to define explicit limits by using the xlim() and ylim() methods.\n",
    "\n",
    "Run the following code:"
   ]
  },
  {
   "cell_type": "code",
   "execution_count": null,
   "metadata": {},
   "outputs": [],
   "source": [
    "plt.plot(x, y) \n",
    "plt.xlabel('X Axis Title Here')\n",
    "plt.ylabel('Y Axis Title Here')\n",
    "plt.title('String Title Here')\n",
    "plt.xlim(1, 8) # Bound the x-axis within the range [1, 8]\n",
    "plt.ylim(2, 16) # Bound the y-axis within the range [2, 16]\n",
    "plt.show()"
   ]
  },
  {
   "cell_type": "markdown",
   "metadata": {},
   "source": [
    "Now the graph should looks like this:\n",
    "\n",
    "![basic_plot_2.png](Assets/Basic_plot_2.png)"
   ]
  },
  {
   "cell_type": "markdown",
   "metadata": {},
   "source": [
    "### Matplotlib Figure Object\n",
    "Now that we've seen the basics, we shall start with a more formal introduction of Matplotlib's Object Oriented API, which we will instantiate a **figure** objects and then call methods or attributes from that object. This apporach is better when dealing with a canvas that has multiple plots or a more complicated plots in general."
   ]
  },
  {
   "cell_type": "code",
   "execution_count": null,
   "metadata": {},
   "outputs": [],
   "source": [
    "# Defines data to be plotted as a graph\n",
    "x = [0, 1, 2, 3, 4, 5, 6, 7, 8, 9, 10]\n",
    "y = [0, 1, 4, 9, 16, 25, 36, 49, 64, 81, 100]"
   ]
  },
  {
   "cell_type": "markdown",
   "metadata": {},
   "source": [
    "To begin with, let's use a figure object to plot a graph using the data that we defined above."
   ]
  },
  {
   "cell_type": "code",
   "execution_count": null,
   "metadata": {},
   "outputs": [],
   "source": [
    "# Create Figure (empty canvas)\n",
    "fig = plt.figure()\n",
    "\n",
    "# Add set of axes to figure\n",
    "axes = fig.add_axes([0, 0, 1, 1]) # [left, bottom, width, height] (range 0 to 1)\n",
    "\n",
    "# Plot on that set of axes\n",
    "axes.plot(x, y)\n",
    "\n",
    "# Display the plot\n",
    "plt.show()"
   ]
  },
  {
   "cell_type": "markdown",
   "metadata": {},
   "source": [
    "The *matplotlib.pyplot.figure.add_axes()* method adds a set of axes to the figure, by taking a list argument, **rect**.\n",
    "\n",
    "The **rect** parameter is the dimension [left, bottom, width, height] of the new axes, where:\n",
    "- **left**: Horizontal distance from the lower left corner.\n",
    "- **bottom**: Vertical distance form the lower left corner.\n",
    "- **width**: Width of the subplot.\n",
    "- **height**: Height of the subplot.\n",
    "\n",
    "Note that all quantities are in fractions, i.e. range from 0 to 1. "
   ]
  },
  {
   "cell_type": "markdown",
   "metadata": {},
   "source": [
    "### Multiple plots in a figure\n",
    "Now that you've had a better understanding about the *add_axes()* method, you can easily add more than one axis to the figure. In the next session you will learn how to create multiple plots in a figure!"
   ]
  },
  {
   "cell_type": "code",
   "execution_count": null,
   "metadata": {},
   "outputs": [],
   "source": [
    "# Create Figure (empty canvas)\n",
    "fig = plt.figure()\n",
    "\n",
    "# Create the first set of axes\n",
    "axes1 = fig.add_axes([0, 0, 1, 1]) # Large figure\n",
    "axes1.plot(x, y)\n",
    "axes1.set_xlabel('X Label')\n",
    "axes1.set_ylabel('Y Label')\n",
    "axes1.set_title('First Figure')\n",
    "\n",
    "# Create the second set of axes\n",
    "axes2 = fig.add_axes([0.2, 0.4, 0.3, 0.3]) # Small figure\n",
    "axes2.plot(x, y)\n",
    "axes2.set_title('Second Figure')\n",
    "\n",
    "# Display the plot\n",
    "plt.show()"
   ]
  },
  {
   "cell_type": "markdown",
   "metadata": {},
   "source": [
    "The order of adding the axes matters! Note that the first set of axes added to the figure will be rendered first, and appears behind the second set of axes."
   ]
  },
  {
   "cell_type": "markdown",
   "metadata": {},
   "source": [
    "### Matplotlib Sub Plots\n",
    "The main focus here is the *plt.subplots()* method. This method acts like a more automatic axis manager. This makes it much easier to show multiple plots side by side."
   ]
  },
  {
   "cell_type": "markdown",
   "metadata": {},
   "source": [
    "The *matplotlib.pyplot.subplots()* method takes two arguments that describes the layout of the figure, in which:\n",
    "\n",
    "- **nrows** represents the number of rows of the figure, and\n",
    "- **ncols** represents the number of columns of the figure.\n",
    "\n",
    "It will then return **fig** and **ax**, where:\n",
    "\n",
    "- **fig** is an figure object with an empty canvas, and\n",
    "- **ax** can be either a single Axes object or an array of Axes objects if more than one subplot was created."
   ]
  },
  {
   "cell_type": "markdown",
   "metadata": {},
   "source": [
    "Now let's try to create a figure with two side-by-side subplots using the *plt.subplots()* method!"
   ]
  },
  {
   "cell_type": "code",
   "execution_count": null,
   "metadata": {},
   "outputs": [],
   "source": [
    "# Defines data to be plotted as a graph\n",
    "x1 = [0, 1, 2, 3, 4, 5, 6, 7, 8, 9, 10]\n",
    "y1 = [0, 1, 2, 3, 4, 5, 6, 7, 8, 9, 10]\n",
    "\n",
    "x2 = [0, 1, 2, 3, 4, 5, 6, 7, 8, 9, 10]\n",
    "y2 = [0, 1, 4, 9, 16, 25, 36, 49, 64, 81, 100]\n",
    "\n",
    "# Create empty canvas with 1 row and 2 columns of subplot\n",
    "fig, ax = plt.subplots(1, 2)"
   ]
  },
  {
   "cell_type": "code",
   "execution_count": null,
   "metadata": {},
   "outputs": [],
   "source": [
    "# Ax is an array of axes to plot on\n",
    "ax"
   ]
  },
  {
   "cell_type": "markdown",
   "metadata": {},
   "source": [
    "Just as before, we simply use the plot() method to plot on each of the axes that are created by the *subplots()* method."
   ]
  },
  {
   "cell_type": "code",
   "execution_count": null,
   "metadata": {
    "scrolled": true
   },
   "outputs": [],
   "source": [
    "# Plot on the first set of axes\n",
    "ax[0].plot(x1, y1)\n",
    "ax[0].set_title(\"Y = X Graph\")\n",
    "ax[0].set_xlabel(\"X\")\n",
    "ax[0].set_ylabel(\"Y\")\n",
    "\n",
    "# Plot on the second set of axes\n",
    "ax[1].plot(x2, y2)\n",
    "ax[1].set_title(\"Y = X^2 Graph\")\n",
    "ax[1].set_xlabel(\"X\")\n",
    "ax[1].set_ylabel(\"Y\")\n",
    "\n",
    "# Display the figure\n",
    "fig"
   ]
  },
  {
   "cell_type": "markdown",
   "metadata": {},
   "source": [
    "A common issue with matplotlib is overlapping subplots or figures. we can use *fig.tight_layout()* or *plt.tight_layout()* method which will automatically adjust the position of the axes on the figure canvas so that there is no overlapping subplots.\n"
   ]
  },
  {
   "cell_type": "code",
   "execution_count": null,
   "metadata": {},
   "outputs": [],
   "source": [
    "# Automatically adjust the axes to prevent subplots from overlapping with each other\n",
    "fig.tight_layout()\n",
    "\n",
    "# Display the figure after adjusting\n",
    "fig"
   ]
  },
  {
   "cell_type": "markdown",
   "metadata": {},
   "source": [
    "### Matplotlib Styling\n",
    "In the following session, you will learn how you can customize your plot by changing the line color, line type, line width, and a lot more!"
   ]
  },
  {
   "cell_type": "markdown",
   "metadata": {},
   "source": [
    "First, let's learn about legend. Legend is mainly used to descriobe the elements of the graph. In order to add legend to your figure you are required to label all the plots in your figure, using the **label** keyword argument."
   ]
  },
  {
   "cell_type": "code",
   "execution_count": null,
   "metadata": {},
   "outputs": [],
   "source": [
    "# Defines data to be plotted as a graph\n",
    "x1 = [0, 1, 2, 3, 4, 5, 6, 7, 8, 9, 10]\n",
    "y1 = [0, 1, 2, 3, 4, 5, 6, 7, 8, 9, 10]\n",
    "\n",
    "x2 = [0, 1, 2, 3, 4, 5, 6, 7, 8, 9, 10]\n",
    "y2 = [0, 1, 4, 9, 16, 25, 36, 49, 64, 81, 100]\n",
    "\n",
    "# Create an empty figure\n",
    "fig = plt.figure()\n",
    "\n",
    "# Add a set of axes to the figure\n",
    "ax = fig.add_axes([0, 0, 1, 1])\n",
    "\n",
    "# Plot twice on the axes\n",
    "ax.plot(x1, y1, label=\"x\")\n",
    "ax.plot(x2, y2, label=\"x^2\")\n",
    "\n",
    "# Add legend to the figure\n",
    "ax.legend();"
   ]
  },
  {
   "cell_type": "markdown",
   "metadata": {},
   "source": [
    "The **legend** function takes an optional keyword argument **loc** that can be used to specify where in the figure the legend is to be drawn, in which, when:\n",
    "\n",
    "- **legend(loc=0)** places the legend in the optimal location, prevent overlapping with the actual plot\n",
    "- **legend(loc=1)** places the legend in the upper right corner\n",
    "- **legend(loc=2)** places the legend in the upper left corner\n",
    "- **legend(loc=3)** places the legend in the lower left corner\n",
    "- **legend(loc=4)** places the legend in the lower right corner\n",
    "\n",
    "The value of the **loc** argument is 0 by default. Run the following cell to see the differences!"
   ]
  },
  {
   "cell_type": "code",
   "execution_count": null,
   "metadata": {},
   "outputs": [],
   "source": [
    "# Create empty canvas with 2 rows and 2 columns of subplot\n",
    "fig, ax = plt.subplots(2,2)\n",
    "\n",
    "# Legend at top right corner\n",
    "ax[0][0].plot(x1, y1, label=\"x\")\n",
    "ax[0][0].legend(loc=1)\n",
    "\n",
    "# Legend at top left corner\n",
    "ax[0][1].plot(x1, y1, label=\"x\")\n",
    "ax[0][1].legend(loc=2)\n",
    "\n",
    "# Legend at lower left corner\n",
    "ax[1][0].plot(x1, y1, label=\"x\")\n",
    "ax[1][0].legend(loc=3)\n",
    "\n",
    "# Legend at lower right corner\n",
    "ax[1][1].plot(x1, y1, label=\"x\")\n",
    "ax[1][1].legend(loc=4)"
   ]
  },
  {
   "cell_type": "markdown",
   "metadata": {},
   "source": [
    "Next, let's learn about the how we can change the line color, line width and line type! Matplotlib gives you a lot of options for customizing colors, linewidths, and linetypes."
   ]
  },
  {
   "cell_type": "markdown",
   "metadata": {},
   "source": [
    "To change the line color of the plots, you need to declare the color of the plot using the **color** keyword argument, right when you are plotting the graph. You can also change the transparency of your plot using the **alpha** keyword argument.\n",
    "\n",
    "Run the following cell."
   ]
  },
  {
   "cell_type": "code",
   "execution_count": null,
   "metadata": {},
   "outputs": [],
   "source": [
    "# Create empty canvas with 2 rows and 2 columns of subplot\n",
    "fig, ax = plt.subplots(2,2)\n",
    "\n",
    "# Red line color\n",
    "ax[0][0].plot(x1, y1, color=\"red\")\n",
    "\n",
    "# Blue line color\n",
    "ax[0][1].plot(x1, y1, color=\"blue\")\n",
    "\n",
    "# Blue line color with half-transparency\n",
    "ax[1][0].plot(x1, y1, color=\"blue\", alpha=0.5)\n",
    "\n",
    "# RGB hex code\n",
    "ax[1][1].plot(x1, y1, color=\"#FF8C00\")"
   ]
  },
  {
   "cell_type": "markdown",
   "metadata": {},
   "source": [
    "To change the line width of the plots, you need to declare the line width of the plot using the **linewidth** or **lw** keyword argument.\n",
    "\n",
    "Run the following cell."
   ]
  },
  {
   "cell_type": "code",
   "execution_count": null,
   "metadata": {},
   "outputs": [],
   "source": [
    "# Create empty canvas with 2 rows and 2 columns of subplot\n",
    "fig, ax = plt.subplots(2,2)\n",
    "\n",
    "# Line width 0.25\n",
    "ax[0][0].plot(x1, y1, linewidth=\"0.25\")\n",
    "\n",
    "# Line width 0.5\n",
    "ax[0][1].plot(x1, y1, linewidth=\"0.5\")\n",
    "\n",
    "# Line width 1\n",
    "ax[1][0].plot(x1, y1, lw=\"1\")\n",
    "\n",
    "# Line width 5\n",
    "ax[1][1].plot(x1, y1, lw=\"5\")"
   ]
  },
  {
   "cell_type": "markdown",
   "metadata": {},
   "source": [
    "To change the line width of the plots, you need to declare the line width of the plot using the **linestyle** or **ls** keyword argument.\n",
    "\n",
    "Run the following cell."
   ]
  },
  {
   "cell_type": "code",
   "execution_count": null,
   "metadata": {},
   "outputs": [],
   "source": [
    "# Some possible line style options include ‘--‘, ‘–’, ‘-.’, ‘:’ and ‘steps’\n",
    "\n",
    "# Create empty canvas with 2 rows and 2 columns of subplot\n",
    "fig, ax = plt.subplots(2,2)\n",
    "\n",
    "# Solid line \n",
    "ax[0][0].plot(x1, y1, linestyle='-')\n",
    "\n",
    "# Dash and dot line\n",
    "ax[0][1].plot(x1, y1, linestyle=\"-.\")\n",
    "\n",
    "# Dots line\n",
    "ax[1][0].plot(x1, y1, ls=\":\")\n",
    "\n",
    "# Dashes line\n",
    "ax[1][1].plot(x1, y1, ls=\"--\")"
   ]
  },
  {
   "cell_type": "markdown",
   "metadata": {},
   "source": [
    "Lastly, let's learn about the markers. You can use the **marker** keyword argument to emphasize each point with a specified marker, and the **markersize** or **ms** keyword argument to declare the marker size.\n",
    "\n",
    "Run the following cell."
   ]
  },
  {
   "cell_type": "code",
   "execution_count": null,
   "metadata": {},
   "outputs": [],
   "source": [
    "# Some possible marker type options include ‘+‘, ‘o’, ‘s’ and ‘1’\n",
    "\n",
    "# Create empty canvas with 2 rows and 2 columns of subplot\n",
    "fig, ax = plt.subplots(2,2)\n",
    "\n",
    "#  '+' type marker\n",
    "ax[0][0].plot(x1, y1, marker='+', markersize=10)\n",
    "\n",
    "# 'o' type marker\n",
    "ax[0][1].plot(x1, y1, marker=\"o\", markersize=5)\n",
    "\n",
    "# 's' type marker\n",
    "ax[1][0].plot(x1, y1, marker=\"s\", ms=5)\n",
    "\n",
    "# '1' type marker\n",
    "ax[1][1].plot(x1, y1, marker=\"1\", ms=10)"
   ]
  },
  {
   "cell_type": "markdown",
   "metadata": {},
   "source": [
    "---\n",
    "## **Seaborn**\n",
    "### **Importing**\n",
    "Import the **pandas** and **seaborn** libraries\n",
    "\n",
    ">```\n",
    ">import pandas as pd\n",
    ">import seaborn as sns\n",
    ">```"
   ]
  },
  {
   "cell_type": "code",
   "execution_count": null,
   "metadata": {},
   "outputs": [],
   "source": [
    "# CODE HERE"
   ]
  },
  {
   "cell_type": "markdown",
   "metadata": {},
   "source": [
    "### **Reading the Dataset**\n",
    "\n",
    "\n",
    ">```\n",
    ">import pandas as pd\n",
    ">```"
   ]
  },
  {
   "cell_type": "markdown",
   "metadata": {},
   "source": []
  },
  {
   "cell_type": "markdown",
   "metadata": {},
   "source": [
    "---\n",
    "---\n",
    "\n",
    "# **Challenge Ahead**\n",
    "The challenges are broken down into 3 parts, each with different difficulties. The harder the challenge is, the higher the mark that you will obtain ***if and only if*** you manage to solve them. If you encounter any problems or technical issues, feel free to contact the stuff members. Remember, Google and StackOverflow are always with you from time to time. Good luck and let's start the challenges!\n",
    "\n",
    "---"
   ]
  }
 ],
 "metadata": {
  "kernelspec": {
   "display_name": "Python 3 (ipykernel)",
   "language": "python",
   "name": "python3"
  },
  "language_info": {
   "codemirror_mode": {
    "name": "ipython",
    "version": 3
   },
   "file_extension": ".py",
   "mimetype": "text/x-python",
   "name": "python",
   "nbconvert_exporter": "python",
   "pygments_lexer": "ipython3",
   "version": "3.9.7"
  },
  "vscode": {
   "interpreter": {
    "hash": "369f2c481f4da34e4445cda3fffd2e751bd1c4d706f27375911949ba6bb62e1c"
   }
  }
 },
 "nbformat": 4,
 "nbformat_minor": 2
}
