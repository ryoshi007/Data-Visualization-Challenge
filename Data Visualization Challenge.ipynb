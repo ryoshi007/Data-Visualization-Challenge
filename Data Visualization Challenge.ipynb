{
 "cells": [
  {
   "cell_type": "markdown",
   "metadata": {},
   "source": [
    "# **Data Visualization** #\n",
    "\n",
    "Greeting, challengers! In this station, you will learn on how to convert data and information into beautiful graphics by using Python. Visual elements like charts, graphs and maps provide an accessible way to see and understand trends, outliers and patterns in data. This step is essentially important when the data scientists want to perform exploratory data analysis (EDA) before creating a machine learning model. It is also used to present the findings from the data in a more visual appeal way, because who likes to see a bunch of lengthy sentences when a beautiful graph can summarise all of these at once?\n",
    "\n",
    "<br>\n",
    "\n",
    "![Introduction%20Picture.png](Assets/Introduction%20Picture.png)"
   ]
  },
  {
   "cell_type": "markdown",
   "metadata": {},
   "source": [
    "---\n",
    "---\n",
    "\n",
    "## **Know Your Tools**\n",
    "Below are the tools and libraries that will be used for this tutorial and challenges.\n",
    "\n",
    "<br>\n",
    "\n",
    "> **Jupyter Notebook**<br><br>\n",
    "Number one go-to tool for data scientists. It offers an interactive web interface that can be used for data visualization, easy analysis, modelling and collaboration\n",
    "<br><br><br>\n",
    "> **Pandas**<br><br>\n",
    "An open-source Python library that provides high-performance, easy-to-use data structure and data analysis tools\n",
    "<br><br><br>\n",
    "> **Matplotlib**<br><br>\n",
    "A comprehensive library for creating static, animated and interactive visualizations in Python\n",
    "<br><br><br>\n",
    "> **Seaborn**<br><br>\n",
    "A library for making statistical graphics in Python. It is built on top of matplotlib and integrates closely with pandas data structures"
   ]
  },
  {
   "cell_type": "markdown",
   "metadata": {},
   "source": [
    "---\n",
    "---\n",
    "\n",
    "## **Gear Up Yourself**\n",
    "*If you use your own laptop and did not install any tools mentioned above, please go through the following instructions. If you use the machine from the station, you can skip this part.*\n",
    "\n",
    "1. Install Jupyter by entering the following code into the command-line <br>\n",
    "    ```\n",
    "    $ pip install jupyter\n",
    "    ```\n",
    "\n",
    "2. Next, install pandas, matplotlib and seaborn libraries <br>\n",
    "    ```\n",
    "    $ pip install pandas \n",
    "    $ pip install matplotlib\n",
    "    $ pip install seaborn\n",
    "    ```\n",
    "\n",
    "3. After the installations are completed, start the Jupyter Notebook server. Type the command below in your terminal. <br>\n",
    "    ```\n",
    "    $ jupyter notebook\n",
    "    ```\n",
    "\n",
    "    A Jupyter page showing files in the current directory will open in your computer's default browser. <br><br>\n",
    "    **Note: <font color=red>Do not close the terminal window that you run this command in. Your server will stop if you do so.</font>**\n",
    "\n",
    "<br>\n",
    "Great! That's all for the setup. Let's us begin the fun stuff!"
   ]
  },
  {
   "cell_type": "markdown",
   "metadata": {},
   "source": [
    "---\n",
    "---\n",
    "\n",
    "# **Tutorial Section**\n",
    "This section will teach you the basic of the matplotlib and seaborn libraries. It will not provide mark but experience to those who are unfamiliar with these tools. If you are an expert in these libraries, you may scroll down or click [here](#challenge-section) to begin the challenges."
   ]
  },
  {
   "cell_type": "markdown",
   "metadata": {},
   "source": [
    "---\n",
    "## **Matplotlib**\n",
    "### **Importing**\n",
    "Import the **pyplot** graphic library from the **matplotlib** API with the name `plt`\n",
    ">```\n",
    ">import matplotlib.pyplot as plt\n",
    ">```\n"
   ]
  },
  {
   "cell_type": "code",
   "execution_count": null,
   "metadata": {},
   "outputs": [],
   "source": [
    "# CODE HERE"
   ]
  },
  {
   "cell_type": "markdown",
   "metadata": {},
   "source": [
    "### **Plot a Simple Graph**\n",
    "Run this code\n",
    ">```\n",
    ">x = [1,2,3,4,5,6,7,8]\n",
    ">y = [2,4,6,8,10,12,14,16]\n",
    ">\n",
    ">plt.plot(x, y)\n",
    ">plt.xlabel('X Axis Title Here')\n",
    ">plt.ylabel('Y Axis Title Here')\n",
    ">plt.title('String Title Here')\n",
    ">plt.show()\n",
    ">```"
   ]
  },
  {
   "cell_type": "markdown",
   "metadata": {},
   "source": [
    "You should get the graph like this after running the code\n",
    "\n",
    "![basic_plot_1.png](Assets/Basic_plot_1.png)"
   ]
  },
  {
   "cell_type": "code",
   "execution_count": null,
   "metadata": {},
   "outputs": [],
   "source": [
    "# CODE HERE"
   ]
  },
  {
   "cell_type": "markdown",
   "metadata": {},
   "source": [
    "Here are the explanation for the code above\n",
    "\n",
    "`x = [1,2,3,4,5,6,7,8]` is to define the values for x axis <br>\n",
    "`y = [2,4,6,8,10,12,14,16]` is to define the values for y axis <br>\n",
    "`plot()` is called to plot the graph <br>\n",
    "`xlabel()` is used to name the x-axis label <br>\n",
    "`ylabel()` is used to name the y-axis label <br>\n",
    "`title()` is used to name the graph title <br>\n",
    "`show()` is called to display the graph <br>"
   ]
  },
  {
   "cell_type": "markdown",
   "metadata": {},
   "source": [
    "## **Seaborn**\n",
    "### **Importing**\n",
    "Import the **pandas** and **seaborn** libraries\n",
    "\n",
    ">```\n",
    ">import pandas as pd\n",
    ">import seaborn as sns\n",
    ">```"
   ]
  },
  {
   "cell_type": "code",
   "execution_count": null,
   "metadata": {},
   "outputs": [],
   "source": [
    "# CODE HERE"
   ]
  },
  {
   "cell_type": "markdown",
   "metadata": {},
   "source": [
    "### **Reading the Dataset**\n",
    "\n",
    "\n",
    ">```\n",
    ">Import\n",
    ">```"
   ]
  },
  {
   "cell_type": "markdown",
   "metadata": {},
   "source": []
  },
  {
   "cell_type": "markdown",
   "metadata": {},
   "source": [
    "---\n",
    "---\n",
    "\n",
    "# **Challenge Section**\n",
    "The challenges are broken down into 3 parts, each with different difficulties. The harder the challenge is, the higher the mark that you will obtain ***if and only if*** you manage to solve them. If you encounter any problems or technical issues, feel free to contact the stuff members. Remember, Google and StackOverflow are always with you from time to time. Good luck and let's start the challenges!"
   ]
  },
  {
   "cell_type": "markdown",
   "metadata": {},
   "source": [
    "---\n",
    "## **Novice Challenge**\n",
    "\n",
    "### **Perform a Simple Exploratory Data Analysis**\n",
    "In statistics, exploratory data analysis (EDA) is an approach of analyzing data sets to summarize their main characteristics, often using statistical graphics and other data visualization methods. In this challenge, we will utilise seaborn library to help us achieve this process.\n",
    "\n",
    "**For this exercise, we will give you a dataset from the GitHub**"
   ]
  },
  {
   "cell_type": "markdown",
   "metadata": {},
   "source": [
    "**TASK: Run the cell below to load the dataset**"
   ]
  },
  {
   "cell_type": "code",
   "execution_count": 73,
   "metadata": {},
   "outputs": [],
   "source": [
    "# Import the libraries\n",
    "import pandas as pd\n",
    "import matplotlib.pyplot as plt\n",
    "import seaborn as sns\n",
    "\n",
    "# Load the data\n",
    "data = pd.read_csv('https://raw.githubusercontent.com/FBosler/AdvancedPlotting/master/combined_set.csv')\n",
    "\n",
    "# Assign labels per year\n",
    "data['Mean Log GDP per capita']  = data.groupby('Year')['Log GDP per capita'].transform(\n",
    "    pd.qcut,\n",
    "    q=5,\n",
    "    labels=(['Lowest','Low','Medium','High','Highest'])\n",
    ")"
   ]
  },
  {
   "cell_type": "markdown",
   "metadata": {},
   "source": [
    "**TASK: Create the scatter plot shown below (1 point)**\n",
    "\n",
    "![Novice_Challenge_Plot_1.png](Assets/Novice_Challenge_Plot_1.png)"
   ]
  },
  {
   "cell_type": "code",
   "execution_count": null,
   "metadata": {},
   "outputs": [],
   "source": [
    "# CODE HERE"
   ]
  },
  {
   "cell_type": "code",
   "execution_count": null,
   "metadata": {},
   "outputs": [],
   "source": [
    "# SOLUTION\n",
    "\n",
    "plt.figure(figsize=(12,8))\n",
    "sns.scatterplot(data=data[data['Year'] == 2018], x='Log GDP per capita', y='Life Ladder', hue='Continent', size='Gapminder Population')"
   ]
  },
  {
   "cell_type": "markdown",
   "metadata": {},
   "source": [
    "**TASK: Create the violin plot shown below (1 point)**\n",
    "\n",
    "![Novice_Challenge_Plot_2.png](Assets/Novice_Challenge_Plot_2.png)"
   ]
  },
  {
   "cell_type": "code",
   "execution_count": null,
   "metadata": {},
   "outputs": [],
   "source": [
    "# CODE HERE"
   ]
  },
  {
   "cell_type": "code",
   "execution_count": null,
   "metadata": {},
   "outputs": [],
   "source": [
    "plt.figure(figsize=(18,6))\n",
    "sns.violinplot(data=data, x='Continent', y='Life Ladder', hue='Mean Log GDP per capita')"
   ]
  },
  {
   "cell_type": "markdown",
   "metadata": {},
   "source": [
    "**TASK: Create joint plot shown below (1 point)**\n",
    "\n",
    "![Novice_Challenge_Plot_3.png](Assets/Novice_Challenge_Plot_3.png)"
   ]
  },
  {
   "cell_type": "code",
   "execution_count": null,
   "metadata": {},
   "outputs": [],
   "source": [
    "# CODE HERE"
   ]
  },
  {
   "cell_type": "code",
   "execution_count": null,
   "metadata": {},
   "outputs": [],
   "source": [
    "# SOLUTION\n",
    "\n",
    "plt.figure(figsize=(12,8))\n",
    "sns.jointplot(data=data, x='Log GDP per capita', y='Life Ladder', kind='scatter')"
   ]
  },
  {
   "cell_type": "markdown",
   "metadata": {},
   "source": [
    "## **Intermediate Challenge**\n",
    "\n",
    "### **Plot E=mc^2 Graph**\n",
    "Description\n",
    "\n",
    "**For this exercise, you will have to plot the graph on a logarithmic scale**"
   ]
  },
  {
   "cell_type": "markdown",
   "metadata": {},
   "source": [
    "**TASK: Run the cell below to create the lists for plotting**"
   ]
  },
  {
   "cell_type": "code",
   "execution_count": null,
   "metadata": {},
   "outputs": [],
   "source": [
    "# CODE HERE"
   ]
  },
  {
   "cell_type": "code",
   "execution_count": null,
   "metadata": {},
   "outputs": [],
   "source": [
    "# SOLUTION\n",
    "\n",
    "m = list(range(0, 11, 1))\n",
    "c = 3*10**8\n",
    "E = []\n",
    "\n",
    "for i in range(len(m)):\n",
    "    E.append(m[i]*c**2)\n"
   ]
  },
  {
   "cell_type": "markdown",
   "metadata": {},
   "source": [
    "**TASK: Recreate the graph below which maps out E=mc^2 (2 points)**\n",
    "\n",
    "![Intermediate_Challenge_Plot_1.png](Assets/Intermediate_Challenge_Plot_1.png)"
   ]
  },
  {
   "cell_type": "code",
   "execution_count": null,
   "metadata": {},
   "outputs": [],
   "source": [
    "# CODE HERE"
   ]
  },
  {
   "cell_type": "code",
   "execution_count": 79,
   "metadata": {},
   "outputs": [
    {
     "data": {
      "image/png": "[encoded data removed]",
      "text/plain": [
       "<Figure size 432x288 with 1 Axes>"
      ]
     },
     "metadata": {
      "needs_background": "light"
     },
     "output_type": "display_data"
    }
   ],
   "source": [
    "# SOLUTION\n",
    "\n",
    "plt.plot(m,E,color='red',lw=5)\n",
    "plt.title(\"E=mc^2\")\n",
    "plt.xlabel(\"Mass in Grams\")\n",
    "plt.ylabel(\"Energy in Joules\")\n",
    "plt.show()"
   ]
  },
  {
   "cell_type": "markdown",
   "metadata": {},
   "source": [
    "**TASK: Plot E=mc^2 on a logarithmic scale on the y axis**\n",
    "\n",
    "![Intermediate_Challenge_Plot_2.png](Assets/Intermediate_Challenge_Plot_2.png)"
   ]
  },
  {
   "cell_type": "code",
   "execution_count": null,
   "metadata": {},
   "outputs": [],
   "source": [
    "# CODE HERE"
   ]
  },
  {
   "cell_type": "code",
   "execution_count": null,
   "metadata": {},
   "outputs": [],
   "source": [
    "# SOLUTION\n",
    "\n",
    "plt.plot(m,E,color='red',lw=5)\n",
    "plt.title(\"E=mc^2\")\n",
    "plt.xlabel(\"Mass in Grams\")\n",
    "plt.ylabel(\"Energy in Joules\")\n",
    "plt.xlim(0,10)\n",
    "\n",
    "# LOG SCALE\n",
    "plt.yscale(\"log\")\n",
    "plt.grid(which='both',axis='y')\n",
    "\n",
    "plt.show()"
   ]
  },
  {
   "cell_type": "markdown",
   "metadata": {},
   "source": [
    "---\n",
    "## **Expert Challenge**\n",
    "\n",
    "### **Plot Inflation Graph**\n",
    "In economics, inflation is the rate of increase in prices over a given period of time. Inflation is typically a broad measure, such as the overall increase in prices or the increase in the cost of living in a country. For example, an inflation rate of 5% per year means that if your shopping costs you $100 today, it would have cost you about only $95 a year ago. Generally, too much inflation is generally considered bad for an economy, while too little inflation is also considered harmful. This is because economists believe that a small amount of inflation can help drive economic growth. Thus, the acceptable inflation rate is set around 2% or a bit below.\n",
    "\n",
    "**For this exercise, we will give you the data to plot a graph of the inflation rates between Malaysia and World Average**"
   ]
  },
  {
   "cell_type": "markdown",
   "metadata": {},
   "source": [
    "**TASK: Run the cell below to create the lists for plotting**"
   ]
  },
  {
   "cell_type": "code",
   "execution_count": null,
   "metadata": {},
   "outputs": [],
   "source": [
    "labels = list(range(2012, 2022, 1))\n",
    "malaysia = [1.66, 2.11, 3.14, 2.10, 2.09, 3.87, 0.88, 0.66, -1.14, 2.48]\n",
    "world = [3.73, 2.62, 2.35, 1.43, 1.55, 2.19, 2.44, 2.19, 1.92, 3.42]"
   ]
  },
  {
   "cell_type": "markdown",
   "metadata": {},
   "source": [
    "**TASK: Recreate the graph below (2 points)**\n",
    "\n",
    "Tips:\n",
    "1. Set figsize to (12,8)\n",
    "\n",
    "![Expert_Challenge_Plot_1.png](Assets/Expert_Challenge_Plot_1.png)"
   ]
  },
  {
   "cell_type": "code",
   "execution_count": null,
   "metadata": {},
   "outputs": [],
   "source": [
    "# CODE HERE"
   ]
  },
  {
   "cell_type": "code",
   "execution_count": null,
   "metadata": {},
   "outputs": [],
   "source": [
    "# SOLUTION\n",
    "\n",
    "import matplotlib.pyplot as plt\n",
    "fig,axes = plt.subplots(nrows=2,ncols=1,figsize=(12,8))\n",
    "\n",
    "axes[0].plot(labels, malaysia)\n",
    "axes[0].set_title(\"Malaysia Inflation Rate\")\n",
    "axes[1].plot(labels,world)\n",
    "axes[1].set_title(\"World Average Inflation Rate\")\n",
    "\n",
    "plt.show()"
   ]
  },
  {
   "cell_type": "markdown",
   "metadata": {},
   "source": [
    "**TASK: Try to recreate the plot below that uses twin axes (4 points)**\n",
    "\n",
    "![Expert_Challenge_Plot_2.png](Assets/Expert_Challenge_Plot_2.png)\n",
    "\n",
    "Tips:\n",
    "1. Graph configuration \n",
    "    - Figure size: (12,8)\n",
    "    - Line width : 2\n",
    "    - Label font size: 18\n",
    "    - Y ticks font size: 15\n",
    "\n",
    "2. Search twinx(), ax.spines()"
   ]
  },
  {
   "cell_type": "code",
   "execution_count": null,
   "metadata": {},
   "outputs": [],
   "source": [
    "# CODE HERE"
   ]
  },
  {
   "cell_type": "code",
   "execution_count": null,
   "metadata": {},
   "outputs": [],
   "source": [
    "# SOLUTION\n",
    "\n",
    "fig, ax1 = plt.subplots(figsize=(12,8))\n",
    "\n",
    "ax1.plot(labels,malaysia, lw=2, color=\"blue\")\n",
    "ax1.set_ylabel(\"Malaysia\", fontsize=18, color=\"blue\")\n",
    "\n",
    "ax1.spines['left'].set_color('blue')\n",
    "ax1.spines['left'].set_linewidth(4)\n",
    "\n",
    "for label in ax1.get_yticklabels():\n",
    "    label.set_color(\"blue\")\n",
    "plt.yticks(fontsize=15)    \n",
    "    \n",
    "ax2 = ax1.twinx()\n",
    "ax2.plot(labels,world, lw=2, color=\"red\")\n",
    "ax2.set_ylabel(\"World Average\", fontsize=18, color=\"red\")\n",
    "\n",
    "ax2.spines['right'].set_color('red')\n",
    "ax2.spines['right'].set_linewidth(4)\n",
    "\n",
    "for label in ax2.get_yticklabels():\n",
    "    label.set_color(\"red\")\n",
    "    \n",
    "ax1.set_title(\"Inflation Rate\");\n",
    "plt.yticks(fontsize=15)\n",
    "\n",
    "plt.show()"
   ]
  }
 ],
 "metadata": {
  "kernelspec": {
   "display_name": "Python 3.10.1 64-bit",
   "language": "python",
   "name": "python3"
  },
  "language_info": {
   "codemirror_mode": {
    "name": "ipython",
    "version": 3
   },
   "file_extension": ".py",
   "mimetype": "text/x-python",
   "name": "python",
   "nbconvert_exporter": "python",
   "pygments_lexer": "ipython3",
   "version": "3.10.1"
  },
  "orig_nbformat": 4,
  "vscode": {
   "interpreter": {
    "hash": "369f2c481f4da34e4445cda3fffd2e751bd1c4d706f27375911949ba6bb62e1c"
   }
  }
 },
 "nbformat": 4,
 "nbformat_minor": 2
}
