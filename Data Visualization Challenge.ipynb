{
 "cells": [
  {
   "cell_type": "markdown",
   "metadata": {},
   "source": [
    "# **Data Visualization** #\n",
    "\n",
    "Greeting, challengers! In this station, you will learn on how to convert data and information into beautiful graphics by using Python. Visual elements like charts, graphs and maps provide an accessible way to see and understand trends, outliers and patterns in data. This step is essentially important when the data scientists want to perform exploratory data analysis (EDA) before creating a machine learning model. It is also used to present the findings from the data in a more visual appeal way, because who likes to see a bunch of lengthy sentences when a beautiful graph can summarise all of these at once?\n",
    "\n",
    "<br>\n",
    "\n",
    "![Introduction%20Picture.png](Assets/Introduction%20Picture.png)"
   ]
  },
  {
   "cell_type": "markdown",
   "metadata": {},
   "source": [
    "---\n",
    "---\n",
    "\n",
    "## **Know Your Tools**\n",
    "Below are the tools and libraries that will be used for this tutorial and challenges.\n",
    "\n",
    "<br>\n",
    "\n",
    "> **Jupyter Notebook**<br><br>\n",
    "Number one go-to tool for data scientists. It offers an interactive web interface that can be used for data visualization, easy analysis, modelling and collaboration\n",
    "<br><br><br>\n",
    "> **Pandas**<br><br>\n",
    "An open-source Python library that provides high-performance, easy-to-use data structure and data analysis tools\n",
    "<br><br><br>\n",
    "> **Matplotlib**<br><br>\n",
    "A comprehensive library for creating static, animated and interactive visualizations in Python\n",
    "<br><br><br>\n",
    "> **Seaborn**<br><br>\n",
    "A library for making statistical graphics in Python. It is built on top of matplotlib and integrates closely with pandas data structures"
   ]
  },
  {
   "cell_type": "markdown",
   "metadata": {},
   "source": [
    "---\n",
    "---\n",
    "\n",
    "## **Gear Up Yourself**\n",
    "*If you use your own laptop and did not install any tools mentioned above, please go through the following instructions. If you use the machine from the station, you can skip this part.*\n",
    "\n",
    "1. Install Jupyter by entering the following code into the command-line <br>\n",
    "    ```\n",
    "    $ pip install jupyter\n",
    "    ```\n",
    "\n",
    "2. Next, install pandas, matplotlib and seaborn libraries <br>\n",
    "    ```\n",
    "    $ pip install pandas \n",
    "    $ pip install matplotlib\n",
    "    $ pip install seaborn\n",
    "    ```\n",
    "\n",
    "3. After the installations are completed, start the Jupyter Notebook server. Type the command below in your terminal. <br>\n",
    "    ```\n",
    "    $ jupyter notebook\n",
    "    ```\n",
    "\n",
    "    A Jupyter page showing files in the current directory will open in your computer's default browser. <br><br>\n",
    "    **Note: <font color=red>Do not close the terminal window that you run this command in. Your server will stop if you do so.</font>**\n",
    "\n",
    "<br>\n",
    "Great! That's all for the setup. Let's us begin the fun stuff!"
   ]
  },
  {
   "cell_type": "markdown",
   "metadata": {},
   "source": [
    "---\n",
    "---\n",
    "\n",
    "# **Tutorial Section**\n",
    "This section will teach you the basic of the matplotlib and seaborn libraries. It will not provide mark but experience to those who are unfamiliar with these tools. If you are an expert in these libraries, you may scroll down or click [here](#challenge-section) to begin the challenges."
   ]
  },
  {
   "cell_type": "markdown",
   "metadata": {},
   "source": [
    "---\n",
    "## **Matplotlib**\n",
    "### **Importing**\n",
    "Import the **pyplot** graphic library from the **matplotlib** API with the name `plt`\n",
    ">```\n",
    ">import matplotlib.pyplot as plt\n",
    ">```\n"
   ]
  },
  {
   "cell_type": "code",
   "execution_count": null,
   "metadata": {},
   "outputs": [],
   "source": [
    "# CODE HERE"
   ]
  },
  {
   "cell_type": "markdown",
   "metadata": {},
   "source": [
    "### **Plot a Simple Graph**\n",
    "Run this code\n",
    ">```\n",
    ">x = [1,2,3,4,5,6,7,8]\n",
    ">y = [2,4,6,8,10,12,14,16]\n",
    ">\n",
    ">plt.plot(x, y)\n",
    ">plt.xlabel('X Axis Title Here')\n",
    ">plt.ylabel('Y Axis Title Here')\n",
    ">plt.title('String Title Here')\n",
    ">plt.show()\n",
    ">```"
   ]
  },
  {
   "cell_type": "markdown",
   "metadata": {},
   "source": [
    "You should get the graph like this after running the code\n",
    "\n",
    "![basic_plot_1.png](Assets/basic_plot_1.png)"
   ]
  },
  {
   "cell_type": "code",
   "execution_count": null,
   "metadata": {},
   "outputs": [],
   "source": [
    "# CODE HERE"
   ]
  },
  {
   "cell_type": "markdown",
   "metadata": {},
   "source": [
    "Here are the explanation for the code above\n",
    "\n",
    "`x = [1,2,3,4,5,6,7,8]` is to define the values for x axis <br>\n",
    "`y = [2,4,6,8,10,12,14,16]` is to define the values for y axis <br>\n",
    "`plot()` is called to plot the graph <br>\n",
    "`xlabel()` is used to name the x-axis label <br>\n",
    "`ylabel()` is used to name the y-axis label <br>\n",
    "`title()` is used to name the graph title <br>\n",
    "`show()` is called to display the graph <br>"
   ]
  },
  {
   "cell_type": "markdown",
   "metadata": {},
   "source": [
    "---\n",
    "## **Seaborn**\n",
    "### **Importing**\n",
    "Import the **pandas** and **seaborn** libraries\n",
    "\n",
    ">```\n",
    ">import pandas as pd\n",
    ">import seaborn as sns\n",
    ">```"
   ]
  },
  {
   "cell_type": "code",
   "execution_count": null,
   "metadata": {},
   "outputs": [],
   "source": [
    "# CODE HERE"
   ]
  },
  {
   "cell_type": "markdown",
   "metadata": {},
   "source": [
    "### **Reading the Dataset**\n",
    "\n",
    "\n",
    ">```\n",
    ">import pandas as pd\n",
    ">```"
   ]
  },
  {
   "cell_type": "markdown",
   "metadata": {},
   "source": []
  },
  {
   "cell_type": "markdown",
   "metadata": {},
   "source": [
    "---\n",
    "---\n",
    "\n",
    "# **Challenge Section**\n",
    "The challenges are broken down into 3 parts, each with different difficulties. The harder the challenge is, the higher the mark that you will obtain ***if and only if*** you manage to solve them. If you encounter any problems or technical issues, feel free to contact the stuff members. Remember, Google and StackOverflow are always with you from time to time. Good luck and let's start the challenges!"
   ]
  },
  {
   "cell_type": "markdown",
   "metadata": {},
   "source": [
    "---\n",
    "## **Novice Challenge**\n",
    "\n",
    "### **Hands on with CovidNow Dataset**\n",
    "Our government has been published data about Covid-19 situation on GitHub since the beginning of the pandemic. A fews talented web developers utilise these data and transform them into a beautiful website - [CovidNow](https://covidnow.moh.gov.my/). This website enables everyone to navigate through the Covid-19 data easily by with just some clicks of button. The information shown are clearly displayed with marvelous UI design and of course, with tons of pretty graphs as well.\n",
    "\n",
    "\n",
    "**For this exercise, we will use the public data provided by the government in [GitHub](https://github.com/MoH-Malaysia/covid19-public)**"
   ]
  },
  {
   "cell_type": "markdown",
   "metadata": {},
   "source": [
    "---\n",
    "\n",
    "**Task: Run the cell below to load the dataset**\n",
    "\n",
    "The cell below will import the necessary libraries for this challenge. Note that the original dataset has been sliced and you will use **last_100_days_cases**, **last_100_days_vax** and **last_100_days_death** data for the rest of challenges."
   ]
  },
  {
   "cell_type": "code",
   "execution_count": null,
   "metadata": {},
   "outputs": [],
   "source": [
    "# Import the libraries\n",
    "from datetime import date\n",
    "import pandas as pd\n",
    "import matplotlib.pyplot as plt\n",
    "import seaborn as sns\n",
    "\n",
    "# Load the dataset about covid cases\n",
    "cases_data = pd.read_csv('https://raw.githubusercontent.com/MoH-Malaysia/covid19-public/main/epidemic/cases_malaysia.csv')\n",
    "cases_data['date'] = pd.to_datetime(cases_data['date'])\n",
    "\n",
    "# Obtain the covid cases for the last 100 days starting from today\n",
    "last_100_days_cases = cases_data[cases_data[\"date\"] >= (pd.to_datetime(date.today()) - pd.Timedelta(days=100))]\n",
    "\n",
    "# Load the dataset about vaccination\n",
    "vax_data = pd.read_csv('https://raw.githubusercontent.com/MoH-Malaysia/covid19-public/main/vaccination/vax_malaysia.csv')\n",
    "vax_data['date'] = pd.to_datetime(vax_data['date'])\n",
    "\n",
    "# Obtain the vaccination information for the last 100 days starting from today\n",
    "last_100_days_vax = vax_data[vax_data[\"date\"] >= (pd.to_datetime(date.today()) - pd.Timedelta(days=100))]\n",
    "\n",
    "# Load the dataset about death\n",
    "death_data = pd.read_csv('https://raw.githubusercontent.com/MoH-Malaysia/covid19-public/main/epidemic/deaths_malaysia.csv')\n",
    "death_data['date'] = pd.to_datetime(death_data['date'])\n",
    "\n",
    "# Obtain the death information for the last 100 days starting from today\n",
    "last_100_days_death = death_data[death_data[\"date\"] >= (pd.to_datetime(date.today()) - pd.Timedelta(days=100))]"
   ]
  },
  {
   "cell_type": "markdown",
   "metadata": {},
   "source": [
    "---\n",
    "Here is the description about the columns that are available in the **last_100_days_cases** dataset\n",
    "\n",
    "<table>\n",
    "<thead>\n",
    "<tr>\n",
    "<th>last_100_days_cases</th>\n",
    "<th></th>\n",
    "</tr>\n",
    "</thead>\n",
    "<tbody>\n",
    "<tr>\n",
    "<td>Columns</td>\n",
    "<td>Explanation</td>\n",
    "</tr>\n",
    "<tr>\n",
    "<td><code>date</code></td>\n",
    "<td>yyyy-mm-dd format; data correct as of 1200hrs on that date</td>\n",
    "</tr>\n",
    "<tr>\n",
    "<td><code>state</code></td>\n",
    "<td>name of state (present in state file, but not country file)</td>\n",
    "</tr>\n",
    "<tr>\n",
    "<td><code>cases_new</code></td>\n",
    "<td>cases reported in the 24h since the last report</td>\n",
    "</tr>\n",
    "<tr>\n",
    "<td><code>cases_import</code></td>\n",
    "<td>imported cases reported in the 24h since the last report</td>\n",
    "</tr>\n",
    "<tr>\n",
    "<td><code>cases_active</code></td>\n",
    "<td>Covid+ individuals who have not recovered or died</td>\n",
    "</tr>\n",
    "<tr>\n",
    "<td><code>cases_recovered</code></td>\n",
    "<td>recovered cases reported in the 24h since the last report</td>\n",
    "</tr>\n",
    "</tbody>\n",
    "</table>"
   ]
  },
  {
   "cell_type": "markdown",
   "metadata": {},
   "source": [
    "Next, here is the description about the columns that are available in the **last_100_days_vax** dataset\n",
    "\n",
    "<table>\n",
    "<thead>\n",
    "<tr>\n",
    "<th>last_100_days_vax</th>\n",
    "<th></th>\n",
    "</tr>\n",
    "</thead>\n",
    "<tbody>\n",
    "<tr>\n",
    "<td>Columns</td>\n",
    "<td>Explanation</td>\n",
    "</tr>\n",
    "<tr>\n",
    "<td><code>date</code></td>\n",
    "<td>yyyy-mm-dd format; data correct as of 2359hrs on that date</td>\n",
    "</tr>\n",
    "<tr>\n",
    "<td><code>daily_partial</code></td>\n",
    "<td>number of individuals who received the first dose of a two-dose protocol</td>\n",
    "</tr>\n",
    "<tr>\n",
    "<td><code>daily_full</code></td>\n",
    "<td>number of individuals who completed their original protocol (whether the 2nd dose of a two-dose protocol, or a single-dose protocol)</td>\n",
    "</tr>\n",
    "<tr>\n",
    "<td><code>daily_booster</code></td>\n",
    "<td>number of individuals who received one dose beyond the original protocol</td>\n",
    "</tr>\n",
    "<tr>\n",
    "<td><code>daily_booster2</code></td>\n",
    "<td>number of individuals who received two dose beyond the original protocol</td>\n",
    "</tr>\n",
    "<tr>\n",
    "<td><code>daily</code></td>\n",
    "<td>total doses administered</td>\n",
    "</tr>\n",
    "</tbody>\n",
    "</table> "
   ]
  },
  {
   "cell_type": "markdown",
   "metadata": {},
   "source": [
    "Lastly, here is the description about the columns that are available in the **last_100_days_death** dataset\n",
    "\n",
    "<table>\n",
    "<thead>\n",
    "<tr>\n",
    "<th>last_100_days_death</th>\n",
    "<th></th>\n",
    "</tr>\n",
    "</thead>\n",
    "<tbody>\n",
    "<tr>\n",
    "<td>Columns</td>\n",
    "<td>Explanation</td>\n",
    "</tr>\n",
    "<tr>\n",
    "<td><code>date</code></td>\n",
    "<td>yyyy-mm-dd format; data correct as of 1200hrs on that date</td>\n",
    "</tr>\n",
    "<tr>\n",
    "<td><code>deaths_new</code></td>\n",
    "<td>deaths due to COVID-19 based on date reported to public</td>\n",
    "</tr>\n",
    "<tr>\n",
    "<td><code>deaths_bid</code></td>\n",
    "<td>deaths due to COVID-19 which were brought-in dead based on date reported to public (perfect subset of deaths_new)</td>\n",
    "</tr>\n",
    "<tr>\n",
    "<td><code>deaths_unvax</code></td>\n",
    "<td>number of unvaccinated individuals who died due to COVID-19 based on date of death</td>\n",
    "</tr>\n",
    "<tr>\n",
    "<td><code>deaths_pvax</code></td>\n",
    "<td>number of partially-vaccinated individuals who died due to COVID-19 based on date of death (perfect subset of deaths_new_dod), where \"partially vaccinated\" is defined as receiving at least 1 dose of a 2-dose vaccine at least 1 day prior to testing positive, or receiving the Cansino vaccine between 1-27 days before testing positive.</td>\n",
    "</tr>\n",
    "<tr>\n",
    "<td><code>deaths_fvax</code></td>\n",
    "<td>number of fully-vaccinated who died due to COVID-19 based on date of death (perfect subset of deaths_new_dod), where \"fully vaccinated\" is defined as receiving the 2nd dose of a 2-dose vaccine at least 14 days prior to testing positive, or receiving the Cansino vaccine at least 28 days before testing positive.</td>\n",
    "</tr>\n",
    "<tr>\n",
    "<td><code>deaths_boost</code></td>\n",
    "<td>number of boosted who died due to COVID-19 based on date of death (perfect subset of deaths_new_dod), where \"boost\" is defined as receiving one dose or more beyond the original protocol.</td>\n",
    "</tr>\n",
    "</tbody>\n",
    "</table>  \n",
    "\n",
    "<br>\n",
    "Some columns are not listed at here as they will not be used for the challenges. If you want to know more about the other columns, you may click these links:\n",
    "\n",
    "1. [Covid Cases & Death Data](https://github.com/MoH-Malaysia/covid19-public/blob/main/epidemic/README.md)\n",
    "2. [Vaccination Data](https://github.com/MoH-Malaysia/covid19-public/blob/main/vaccination/README.md)"
   ]
  },
  {
   "cell_type": "markdown",
   "metadata": {},
   "source": [
    "--- \n",
    "**TASK: Recreate the line graph below (2 points)**  \n",
    "\n",
    "Use the data from the **last_100_days_cases**, plot a line graph that shows 2 items using **seaborn**:   \n",
    "> i. New Covid-19 cases   \n",
    "> ii. Recovered Covid-19 cases  \n",
    "\n",
    "\n",
    "Tips:  \n",
    "1. Set figure size to (12,8)\n",
    "\n",
    "![Covid_Graph_1.png](Assets/Covid_Graph_1.png)"
   ]
  },
  {
   "cell_type": "code",
   "execution_count": null,
   "metadata": {},
   "outputs": [],
   "source": [
    "# CODE HERE"
   ]
  },
  {
   "cell_type": "code",
   "execution_count": null,
   "metadata": {},
   "outputs": [],
   "source": [
    "# SOLUTION\n",
    "\n",
    "plt.figure(figsize=(12,8))\n",
    "ax = sns.lineplot(data=last_100_days_cases, x='date', y='cases_new', label='New Cases')\n",
    "sns.lineplot(data=last_100_days_cases, x='date', y='cases_recovered', label='Recovered Cases')\n",
    "\n",
    "ax.set_ylabel(\"Number of cases\")\n",
    "ax.set_xlabel(\"Date\")\n",
    "\n",
    "plt.show()"
   ]
  },
  {
   "cell_type": "markdown",
   "metadata": {},
   "source": [
    "---\n",
    "**TASK: Recreate the line graph below (3 points)**  \n",
    "\n",
    "Use the data from **last_100_days_cases**, create a line graph that shows active cases using **seaborn**.\n",
    "\n",
    "Tips:\n",
    "1. Graph configuration \n",
    "    - Figure size: (12,8)\n",
    "    - Line color: Black\n",
    "    - Alpha value for fill between: 0.2\n",
    "\n",
    "    <br>\n",
    "\n",
    "![Covid_Graph_2.png](Assets/Covid_Graph_2.png)"
   ]
  },
  {
   "cell_type": "code",
   "execution_count": null,
   "metadata": {},
   "outputs": [],
   "source": [
    "# CODE HERE"
   ]
  },
  {
   "cell_type": "code",
   "execution_count": null,
   "metadata": {},
   "outputs": [],
   "source": [
    "# SOLUTION\n",
    "\n",
    "plt.figure(figsize=(12,8))\n",
    "ax = sns.lineplot(data=last_100_days_cases, x='date', y='cases_active', label='Active Cases', color='black')\n",
    "ax.fill_between(x=last_100_days_cases['date'], y1=last_100_days_cases['cases_active'], alpha=0.2)\n",
    "ax.set_ylabel(\"Number of cases\")\n",
    "ax.set_xlabel(\"Date\")\n",
    "plt.show()"
   ]
  },
  {
   "cell_type": "markdown",
   "metadata": {},
   "source": [
    "---\n",
    "**TASK: Recreate the bar chart below (4 points)**  \n",
    "\n",
    "Use the data from **last_100_days_cases**, create a line graph that shows active cases using **seaborn**.\n",
    "\n",
    "Tips:\n",
    "1. Graph configuration \n",
    "    - Figure size: (20,10)\n",
    "    - Bar color: Skyblue\n",
    "\n",
    "2. Run this code to obtain the modified x ticks labels and set it as the x-axis tick labels with 90 degree rotation\n",
    "    > last_100_days_cases['date'].dt.strftime(\"%m-%d\")\n",
    "\n",
    "\n",
    "![Covid_Graph_3.png](Assets/Covid_Graph_3.png)"
   ]
  },
  {
   "cell_type": "code",
   "execution_count": null,
   "metadata": {},
   "outputs": [],
   "source": [
    "# CODE HERE"
   ]
  },
  {
   "cell_type": "code",
   "execution_count": null,
   "metadata": {},
   "outputs": [],
   "source": [
    "# SOLUTION\n",
    "\n",
    "plt.figure(figsize=(20, 10))\n",
    "\n",
    "formatted_date = last_100_days_cases['date'].dt.strftime(\"%m-%d\")\n",
    "\n",
    "ax = sns.barplot(data=last_100_days_cases, x='date', y='cases_import', color='skyblue')\n",
    "\n",
    "ax.set_ylabel(\"Number of Cases\")\n",
    "ax.set_xlabel(\"Date\")\n",
    "ax.set_title(\"New Covid Cases\")\n",
    "ax.set_xticklabels(labels=formatted_date, rotation = 90)\n",
    "\n",
    "plt.show()"
   ]
  },
  {
   "cell_type": "markdown",
   "metadata": {},
   "source": [
    "---\n",
    "---\n",
    "## **Intermediate Challenge**\n",
    "\n",
    "### **A More Advanced Skill with CovidNow Dataset**\n",
    "Now let's move on to make a more complicated graph using the same dataset from the previous challenges, shall we?"
   ]
  },
  {
   "cell_type": "markdown",
   "metadata": {},
   "source": [
    "---\n",
    "**TASK: Create the stack plot (4 points)**  \n",
    "\n",
    "Use the data from **last_100_days_death**, create a stack plot that display the information about the **deaths_unvax**, **deaths_pvax**, **deaths_fvax** and **deaths_boost**.\n",
    "\n",
    "Tips:\n",
    "1. Graph configuration \n",
    "    - Figure size: (20,8)\n",
    "    - Colors: ['palegreen', 'sandybrown', 'skyblue', 'violet']\n",
    "\n",
    "\n",
    "2. Use dictionary when inserting y values and the labels\n",
    "\n",
    "![Covid_Graph_5.png](Assets/Covid_Graph_5.png)"
   ]
  },
  {
   "cell_type": "code",
   "execution_count": null,
   "metadata": {},
   "outputs": [],
   "source": [
    "# CODE HERE"
   ]
  },
  {
   "cell_type": "code",
   "execution_count": null,
   "metadata": {},
   "outputs": [],
   "source": [
    "# SOLUTION\n",
    "\n",
    "from cProfile import label\n",
    "from email.mime import base\n",
    "\n",
    "\n",
    "plt.figure(figsize=(20,8))\n",
    "\n",
    "y_values = {\n",
    "    \"Unvaccinated\": last_100_days_death['deaths_unvax'],\n",
    "    \"Partially Vaccinated\": last_100_days_death['deaths_pvax'],\n",
    "    \"Fully Vaccinated\": last_100_days_death['deaths_fvax'],\n",
    "    \"Boosted\": last_100_days_death['deaths_boost']\n",
    "}\n",
    "\n",
    "colors = ['palegreen', 'sandybrown', 'skyblue', 'violet']\n",
    "\n",
    "plt.stackplot(last_100_days_death['date'], y_values.values(), labels=y_values.keys(), colors=colors)\n",
    "\n",
    "plt.title(\"Death Info\")\n",
    "plt.ylabel(\"Number of death\")\n",
    "plt.xlabel(\"Date\")\n",
    "plt.legend()\n",
    "\n",
    "plt.show()"
   ]
  },
  {
   "cell_type": "markdown",
   "metadata": {},
   "source": [
    "\n",
    "---\n",
    "**TASK: Create the stacked bar chart (6 points)**  \n",
    "\n",
    "Use the data from **last_100_days_vax**, create a stacked bar chart that display the information about the **daily_full**, **daily_partial**, **daily_booster** and **daily_booster2**. To plot the line graph, use the information from **daily** data. All must be done with **matplotlib** libraries only.\n",
    "\n",
    "Tips:\n",
    "1. Graph configuration \n",
    "    - Figure size: (20,10)\n",
    "    - Daily_full bar color: Skyblue\n",
    "    - Daily_partial bar color: Lightpink\n",
    "    - Daily_booster bar color: Wheat\n",
    "    - Daily_booster2 bar color: Lightgreen\n",
    "    \n",
    "2. Plot the bar charts first, then the line graph\n",
    "3. Type carefully for the bottom parameter inside bar() method\n",
    "\n",
    "![Covid_Graph_4.png](Assets/Covid_Graph_4.png)\n",
    "\n"
   ]
  },
  {
   "cell_type": "code",
   "execution_count": null,
   "metadata": {},
   "outputs": [],
   "source": [
    "# CODE HERE"
   ]
  },
  {
   "cell_type": "code",
   "execution_count": null,
   "metadata": {},
   "outputs": [],
   "source": [
    "# SOLUTION\n",
    "\n",
    "plt.figure(figsize=(20,10))\n",
    "\n",
    "plt.bar(last_100_days_vax['date'], last_100_days_vax['daily_full'], color='skyblue', label='Received 2nd Dose')\n",
    "plt.bar(last_100_days_vax['date'], last_100_days_vax['daily_partial'], color='lightpink', label='Received 1st Dose', bottom=last_100_days_vax['daily_full'])\n",
    "plt.bar(last_100_days_vax['date'], last_100_days_vax['daily_booster'], color='wheat', label='Received Booster Dose', bottom=last_100_days_vax['daily_full'] \n",
    "        + last_100_days_vax['daily_partial'])\n",
    "plt.bar(last_100_days_vax['date'], last_100_days_vax['daily_booster2'], color='lightgreen', label='Received 2nd Booster Dose', bottom=last_100_days_vax['daily_full'] \n",
    "        + last_100_days_vax['daily_partial'] + last_100_days_vax['daily_booster'])\n",
    "plt.plot(last_100_days_vax['date'], last_100_days_vax['daily'], color='black')\n",
    "\n",
    "plt.xlabel(\"Date\")\n",
    "plt.ylabel(\"Number\")\n",
    "plt.title(\"Vaccination Info\")\n",
    "plt.legend()\n",
    "plt.show()"
   ]
  },
  {
   "cell_type": "markdown",
   "metadata": {},
   "source": [
    "---\n",
    "---\n",
    "\n",
    "## **Expert Challenge**\n",
    "\n",
    "### **Plot E=mc^2**\n",
    "E = mc^2, equation in German-born physicist Albert Einstein's theory of special relativity that expresses the fact that mass and enery are the same physical entity and can be changed into each other. It is one of the famous physics formula that has been recognised by everyone and its contributions to the field of nuclear and particle physics are just tremendous. \n",
    "\n",
    "**For this exercise, you will have to plot a E=mc^2 graph based on the given requirements**"
   ]
  },
  {
   "cell_type": "markdown",
   "metadata": {},
   "source": [
    "---\n",
    "**TASK: Create a dataset to plot the graph (2 points)**\n",
    "\n",
    "You will have to plot E=mc^2 graph for m, which ranges from integer 0 to 10. Create **two** lists to store the values of **m**, and the energy, **E** which calculated with the formula E=mc^2. Note that the speed of light, c used in this formula is 3^(10^8) ms-1.\n",
    "\n",
    "Your lists should have these values:\n",
    "\n",
    "m - [0, 1, 2, 3, 4, 5, 6, 7, 8, 9, 10]  \n",
    "E - [0, 90000000000000000, 180000000000000000, 270000000000000000, 360000000000000000, 450000000000000000, 540000000000000000, 630000000000000000, 720000000000000000, 810000000000000000, 900000000000000000]"
   ]
  },
  {
   "cell_type": "code",
   "execution_count": null,
   "metadata": {},
   "outputs": [],
   "source": [
    "# CODE HERE"
   ]
  },
  {
   "cell_type": "code",
   "execution_count": null,
   "metadata": {},
   "outputs": [],
   "source": [
    "# SOLUTION\n",
    "\n",
    "m = list(range(0, 11, 1))\n",
    "c = 3*10**8\n",
    "E = []\n",
    "\n",
    "for i in range(len(m)):\n",
    "    E.append(m[i]*c**2)"
   ]
  },
  {
   "cell_type": "markdown",
   "metadata": {},
   "source": [
    "---\n",
    "**TASK: Recreate the graph below which maps out E=mc^2 (2 points)**  \n",
    "\n",
    "By using the list m and E that you have made from previous task, plot the graph using **matplotlib**.\n",
    "\n",
    "![Physics_Graph_1.png](Assets/Physics_Graph_1.png)"
   ]
  },
  {
   "cell_type": "code",
   "execution_count": null,
   "metadata": {},
   "outputs": [],
   "source": [
    "# CODE HERE"
   ]
  },
  {
   "cell_type": "code",
   "execution_count": null,
   "metadata": {},
   "outputs": [],
   "source": [
    "# SOLUTION\n",
    "\n",
    "plt.plot(m,E,color='red',lw=5)\n",
    "plt.title(\"E=mc^2\")\n",
    "plt.xlabel(\"Mass in Grams\")\n",
    "plt.ylabel(\"Energy in Joules\")\n",
    "plt.show()"
   ]
  },
  {
   "cell_type": "markdown",
   "metadata": {},
   "source": [
    "---\n",
    "**TASK: Plot E=mc^2 on a logarithmic scale on the y axis (3 points)**  \n",
    "\n",
    "Using **matplotlib**, plot the logarithmic graph as shown below.\n",
    "\n",
    "Tips:\n",
    "1. Search about yscale() to set the logarithmic scale\n",
    "2. Search about grid() to set the grid of the plotted graph same as the picture  \n",
    "\n",
    "![Physics_Graph_2.png](Assets/Physics_Graph_2.png)"
   ]
  },
  {
   "cell_type": "code",
   "execution_count": null,
   "metadata": {},
   "outputs": [],
   "source": [
    "# CODE HERE"
   ]
  },
  {
   "cell_type": "code",
   "execution_count": null,
   "metadata": {},
   "outputs": [],
   "source": [
    "# SOLUTION\n",
    "\n",
    "plt.plot(m,E,color='red',lw=5)\n",
    "plt.title(\"E=mc^2\")\n",
    "plt.xlabel(\"Mass in Grams\")\n",
    "plt.ylabel(\"Energy in Joules\")\n",
    "plt.xlim(0,10)\n",
    "\n",
    "# LOG SCALE\n",
    "plt.yscale(\"log\")\n",
    "plt.grid(which='both',axis='y')\n",
    "\n",
    "plt.show()"
   ]
  },
  {
   "cell_type": "markdown",
   "metadata": {},
   "source": [
    "---\n",
    "\n",
    "### **Plot Inflation Graph**\n",
    "In economics, inflation is the rate of increase in prices over a given period of time. Inflation is typically a broad measure, such as the overall increase in prices or the increase in the cost of living in a country. For example, an inflation rate of 5% per year means that if your shopping costs you $100 today, it would have cost you about only $95 a year ago. Generally, too much inflation is generally considered bad for an economy, while too little inflation is also considered harmful. This is because economists believe that a small amount of inflation can help drive economic growth. Thus, the acceptable inflation rate is set around 2% or a bit below.\n",
    "\n",
    "**For this exercise, we will give you the data to plot a graph of the inflation rates between Malaysia and World Average**"
   ]
  },
  {
   "cell_type": "markdown",
   "metadata": {},
   "source": [
    "---\n",
    "**TASK: Run the cell below to create the lists for plotting**  \n",
    "\n",
    "Below are the data that will be used for the plotting, run the cell to initialise the lists."
   ]
  },
  {
   "cell_type": "code",
   "execution_count": null,
   "metadata": {},
   "outputs": [],
   "source": [
    "labels = list(range(2012, 2022, 1))\n",
    "malaysia = [1.66, 2.11, 3.14, 2.10, 2.09, 3.87, 0.88, 0.66, -1.14, 2.48]\n",
    "world = [3.73, 2.62, 2.35, 1.43, 1.55, 2.19, 2.44, 2.19, 1.92, 3.42]"
   ]
  },
  {
   "cell_type": "markdown",
   "metadata": {},
   "source": [
    "---\n",
    "**TASK: Recreate the graph below (3 points)**  \n",
    "\n",
    "Using **matplotlit**, create two separated line graphs in which the first graph shows Malaysia's inflation rate, whereas the second graph shows World Average's inflation rate. \n",
    "\n",
    "Tips:\n",
    "1. Set figure size to (12,8)\n",
    "\n",
    "![Expert_Challenge_Plot_1.png](Assets/Expert_Challenge_Plot_1.png)"
   ]
  },
  {
   "cell_type": "code",
   "execution_count": null,
   "metadata": {},
   "outputs": [],
   "source": [
    "# CODE HERE"
   ]
  },
  {
   "cell_type": "code",
   "execution_count": null,
   "metadata": {},
   "outputs": [],
   "source": [
    "# SOLUTION\n",
    "\n",
    "fig,axes = plt.subplots(nrows=2,ncols=1,figsize=(12,8))\n",
    "\n",
    "axes[0].plot(labels, malaysia)\n",
    "axes[0].set_title(\"Malaysia Inflation Rate\")\n",
    "axes[1].plot(labels,world)\n",
    "axes[1].set_title(\"World Average Inflation Rate\")\n",
    "\n",
    "plt.show()"
   ]
  },
  {
   "cell_type": "markdown",
   "metadata": {},
   "source": [
    "---\n",
    "**TASK: Try to recreate the plot below that uses twin axes (7 points)**  \n",
    "\n",
    "Using **matplotlib**, try to find a way that could plot different axes on the same graph.\n",
    "\n",
    "Tips:\n",
    "1. Graph configuration \n",
    "    - Figure size: (12,8)\n",
    "    - Plotting line width: 2\n",
    "    - Spine line width: 4\n",
    "    - Label font size: 18\n",
    "    - Y ticks font size: 15\n",
    "\n",
    "2. Search twinx() and spines  \n",
    "\n",
    "![Expert_Challenge_Plot_2.png](Assets/Expert_Challenge_Plot_2.png)"
   ]
  },
  {
   "cell_type": "code",
   "execution_count": null,
   "metadata": {},
   "outputs": [],
   "source": [
    "# CODE HERE"
   ]
  },
  {
   "cell_type": "code",
   "execution_count": null,
   "metadata": {},
   "outputs": [],
   "source": [
    "# SOLUTION\n",
    "\n",
    "fig, ax1 = plt.subplots(figsize=(12,8))\n",
    "\n",
    "ax1.plot(labels,malaysia, lw=2, color=\"blue\")\n",
    "ax1.set_ylabel(\"Malaysia\", fontsize=18, color=\"blue\")\n",
    "\n",
    "ax1.spines['left'].set_color('blue')\n",
    "ax1.spines['left'].set_linewidth(4)\n",
    "\n",
    "for label in ax1.get_yticklabels():\n",
    "    label.set_color(\"blue\")\n",
    "plt.yticks(fontsize=15)    \n",
    "    \n",
    "ax2 = ax1.twinx()\n",
    "ax2.plot(labels,world, lw=2, color=\"red\")\n",
    "ax2.set_ylabel(\"World Average\", fontsize=18, color=\"red\")\n",
    "\n",
    "ax2.spines['right'].set_color('red')\n",
    "ax2.spines['right'].set_linewidth(4)\n",
    "\n",
    "for label in ax2.get_yticklabels():\n",
    "    label.set_color(\"red\")\n",
    "    \n",
    "ax1.set_title(\"Inflation Rate\");\n",
    "plt.yticks(fontsize=15)\n",
    "\n",
    "plt.show()"
   ]
  },
  {
   "cell_type": "markdown",
   "metadata": {},
   "source": [
    "---\n",
    "---\n",
    "\n",
    "# **Conclusion**\n",
    "Congratulation for reaching the end section of \"Data Visualization\" station. We hope that these tutorials and challenges could increase your knowledges about the matplotlib and seaborn libraries. What we have included here is just a tip of iceberg and it would be great if you can self-explore the rest of the libraries. If you fail to complete some challenges, please don't give up! This is just a part of learning process, nobody can ace it at once. Forget the mistake, remember the lesson. Keep your spirit up and be ready to explore other fun station. Goodbye!"
   ]
  }
 ],
 "metadata": {
  "kernelspec": {
   "display_name": "Python 3.10.1 64-bit",
   "language": "python",
   "name": "python3"
  },
  "language_info": {
   "codemirror_mode": {
    "name": "ipython",
    "version": 3
   },
   "file_extension": ".py",
   "mimetype": "text/x-python",
   "name": "python",
   "nbconvert_exporter": "python",
   "pygments_lexer": "ipython3",
   "version": "3.10.1"
  },
  "orig_nbformat": 4,
  "vscode": {
   "interpreter": {
    "hash": "369f2c481f4da34e4445cda3fffd2e751bd1c4d706f27375911949ba6bb62e1c"
   }
  }
 },
 "nbformat": 4,
 "nbformat_minor": 2
}
