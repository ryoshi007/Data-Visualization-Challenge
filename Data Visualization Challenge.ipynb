{
 "cells": [
  {
   "cell_type": "markdown",
   "metadata": {},
   "source": [
    "# **Data Visualization** #\n",
    "\n",
    "Greeting, challengers! In this station, you will learn on how to convert data and information into beautiful graphics by using Python. Visual elements like charts, graphs and maps provide an accessible way to see and understand trends, outliers and patterns in data. This step is essentially important when the data scientists want to perform exploratory data analysis (EDA) before creating a machine learning model. It is also used to present the findings from the data in a more visual appeal way, because who likes to see a bunch of lengthy sentences when a beautiful graph can summarise all of these at once?\n",
    "\n",
    "<br>\n",
    "\n",
    "![Introduction%20Picture.png](Introduction%20Picture.png)"
   ]
  },
  {
   "cell_type": "markdown",
   "metadata": {},
   "source": [
    "---\n",
    "\n",
    "## **Know Your Tools**\n",
    "Below are the tools and libraries that will be used for this tutorial and challenges.\n",
    "\n",
    "<br>\n",
    "\n",
    "> **Jupyter Notebook**<br><br>\n",
    "Number one go-to tool for data scientists. It offers an interactive web interface that can be used for data visualization, easy analysis, modelling and collaboration\n",
    "<br><br><br>\n",
    "> **Pandas**<br><br>\n",
    "An open-source Python library that provides high-performance, easy-to-use data structure and data analysis tools\n",
    "<br><br><br>\n",
    "> **Matplotlib**<br><br>\n",
    "A comprehensive library for creating static, animated and interactive visualizations in Python\n",
    "<br><br><br>\n",
    "> **Seaborn**<br><br>\n",
    "A library for making statistical graphics in Python. It is built on top of matplotlib and integrates closely with pandas data structures"
   ]
  },
  {
   "cell_type": "markdown",
   "metadata": {},
   "source": [
    "---\n",
    "\n",
    "## **Gear Up Yourself**\n",
    "*If you use your own laptop and did not install any tools mentioned above, please go through the following instructions. If you use the machine from the station, you can skip this part.*\n",
    "\n",
    "1. Install Jupyter by entering the following code into the command-line <br>\n",
    "    ```\n",
    "    $ pip install jupyter\n",
    "    ```\n",
    "\n",
    "2. Next, install pandas, matplotlib and seaborn libraries <br>\n",
    "    ```\n",
    "    $ pip install pandas \n",
    "    $ pip install matplotlib\n",
    "    $ pip install seaborn\n",
    "    ```\n",
    "\n",
    "3. After the installations are completed, start the Jupyter Notebook server. Type the command below in your terminal. <br>\n",
    "    ```\n",
    "    $ jupyter notebook\n",
    "    ```\n",
    "\n",
    "    A Jupyter page showing files in the current directory will open in your computer's default browser. <br><br>\n",
    "    **Note: <font color=red>Do not close the terminal window that you run this command in. Your server will stop if you do so.</font>**\n",
    "\n",
    "<br>\n",
    "Great! That's all for the setup. Let's us begin the fun stuff!"
   ]
  },
  {
   "cell_type": "markdown",
   "metadata": {},
   "source": [
    "---\n",
    "# **Tutorial Section**\n",
    "This section will teach you the basic of the matplotlib and seaborn libraries. It will not provide mark but experience to those who are unfamiliar with these tools. If you are an expert in these libraries, you may scroll down or click [here](#challenge-section) to begin the challenges."
   ]
  },
  {
   "cell_type": "markdown",
   "metadata": {},
   "source": [
    "---\n",
    "## **Matplotlib**\n",
    "### **Importing**\n",
    "Import the **pyplot** graphic library from the **matplotlib** API with the name `plt`\n",
    ">```\n",
    ">import matplotlib.pyplot as plt\n",
    ">```\n"
   ]
  },
  {
   "cell_type": "code",
   "execution_count": null,
   "metadata": {},
   "outputs": [],
   "source": [
    "# CODE HERE"
   ]
  },
  {
   "cell_type": "markdown",
   "metadata": {},
   "source": [
    "### **Plot a Simple Graph**\n",
    "Run this code\n",
    ">```\n",
    ">x = [1,2,3,4,5,6,7,8]\n",
    ">y = [2,4,6,8,10,12,14,16]\n",
    ">\n",
    ">plt.plot(x, y)\n",
    ">plt.xlabel('X Axis Title Here')\n",
    ">plt.ylabel('Y Axis Title Here')\n",
    ">plt.title('String Title Here')\n",
    ">plt.show()\n",
    ">```"
   ]
  },
  {
   "cell_type": "markdown",
   "metadata": {},
   "source": [
    "You should get the graph like this after running the code\n",
    "\n",
    "![basic_plot_1.png](basic_plot_1.png)"
   ]
  },
  {
   "cell_type": "code",
   "execution_count": null,
   "metadata": {},
   "outputs": [],
   "source": []
  },
  {
   "cell_type": "markdown",
   "metadata": {},
   "source": [
    "---\n",
    "\n",
    "# **Challenge Section**\n",
    "The challenges are broken down into 3 parts, each with different difficulties. The harder the challenge is, the higher the mark that you will obtain ***if and only if*** you manage to solve them. If you encounter any problems or technical issues, feel free to contact the stuff members. Remember, Google and StackOverflow are always with you from time to time. Good luck and let's start the challenges!"
   ]
  },
  {
   "cell_type": "markdown",
   "metadata": {},
   "source": [
    "## **Novice Challenge**"
   ]
  },
  {
   "cell_type": "markdown",
   "metadata": {},
   "source": [
    "## **Intermediate Challenge**"
   ]
  },
  {
   "cell_type": "markdown",
   "metadata": {},
   "source": [
    "## **Expert Challenge**"
   ]
  },
  {
   "cell_type": "code",
   "execution_count": null,
   "metadata": {},
   "outputs": [],
   "source": []
  }
 ],
 "metadata": {
  "kernelspec": {
   "display_name": "Python 3.10.1 64-bit",
   "language": "python",
   "name": "python3"
  },
  "language_info": {
   "codemirror_mode": {
    "name": "ipython",
    "version": 3
   },
   "file_extension": ".py",
   "mimetype": "text/x-python",
   "name": "python",
   "nbconvert_exporter": "python",
   "pygments_lexer": "ipython3",
   "version": "3.10.1"
  },
  "orig_nbformat": 4,
  "vscode": {
   "interpreter": {
    "hash": "369f2c481f4da34e4445cda3fffd2e751bd1c4d706f27375911949ba6bb62e1c"
   }
  }
 },
 "nbformat": 4,
 "nbformat_minor": 2
}
