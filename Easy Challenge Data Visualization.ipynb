{
 "cells": [
  {
   "cell_type": "markdown",
   "metadata": {},
   "source": [
    "---\n",
    "---\n",
    "## **Novice Challenge**\n",
    "\n",
    "### **Hands on with CovidNow Dataset**\n",
    "Our government has been published data about Covid-19 situation on GitHub since the beginning of the pandemic. A fews talented web developers utilise these data and transform them into a beautiful website - [CovidNow](https://covidnow.moh.gov.my/). This website enables everyone to navigate through the Covid-19 data easily by with just some clicks of button. The information shown are clearly displayed with marvelous UI design and of course, with tons of pretty graphs as well.\n",
    "\n",
    "\n",
    "**For this exercise, we will use the public data provided by the government in [GitHub](https://github.com/MoH-Malaysia/covid19-public)**"
   ]
  },
  {
   "cell_type": "markdown",
   "metadata": {},
   "source": [
    "---\n",
    "\n",
    "**Task: Run the cell below to load the dataset**\n",
    "\n",
    "The cell below will import the necessary libraries for this challenge. Note that the original dataset has been sliced and you will use **last_100_days_cases**, **last_100_days_vax** and **last_100_days_death** data for the rest of challenges."
   ]
  },
  {
   "cell_type": "code",
   "execution_count": null,
   "metadata": {},
   "outputs": [],
   "source": [
    "# Import the libraries\n",
    "from datetime import date\n",
    "import pandas as pd\n",
    "import matplotlib.pyplot as plt\n",
    "import seaborn as sns\n",
    "\n",
    "# Load the dataset about covid cases\n",
    "cases_data = pd.read_csv('https://raw.githubusercontent.com/MoH-Malaysia/covid19-public/main/epidemic/cases_malaysia.csv')\n",
    "cases_data['date'] = pd.to_datetime(cases_data['date'])\n",
    "\n",
    "# Obtain the covid cases for the last 100 days starting from today\n",
    "last_100_days_cases = cases_data[cases_data[\"date\"] >= (pd.to_datetime(date.today()) - pd.Timedelta(days=100))]\n",
    "\n",
    "# Load the dataset about vaccination\n",
    "vax_data = pd.read_csv('https://raw.githubusercontent.com/MoH-Malaysia/covid19-public/main/vaccination/vax_malaysia.csv')\n",
    "vax_data['date'] = pd.to_datetime(vax_data['date'])\n",
    "\n",
    "# Obtain the vaccination information for the last 100 days starting from today\n",
    "last_100_days_vax = vax_data[vax_data[\"date\"] >= (pd.to_datetime(date.today()) - pd.Timedelta(days=100))]\n",
    "\n",
    "# Load the dataset about death\n",
    "death_data = pd.read_csv('https://raw.githubusercontent.com/MoH-Malaysia/covid19-public/main/epidemic/deaths_malaysia.csv')\n",
    "death_data['date'] = pd.to_datetime(death_data['date'])\n",
    "\n",
    "# Obtain the death information for the last 100 days starting from today\n",
    "last_100_days_death = death_data[death_data[\"date\"] >= (pd.to_datetime(date.today()) - pd.Timedelta(days=100))]"
   ]
  },
  {
   "cell_type": "markdown",
   "metadata": {},
   "source": [
    "---\n",
    "Here is the description about the columns that are available in the **last_100_days_cases** dataset\n",
    "\n",
    "<table>\n",
    "<thead>\n",
    "<tr>\n",
    "<th>last_100_days_cases</th>\n",
    "<th></th>\n",
    "</tr>\n",
    "</thead>\n",
    "<tbody>\n",
    "<tr>\n",
    "<td>Columns</td>\n",
    "<td>Explanation</td>\n",
    "</tr>\n",
    "<tr>\n",
    "<td><code>date</code></td>\n",
    "<td>yyyy-mm-dd format; data correct as of 1200hrs on that date</td>\n",
    "</tr>\n",
    "<tr>\n",
    "<td><code>state</code></td>\n",
    "<td>name of state (present in state file, but not country file)</td>\n",
    "</tr>\n",
    "<tr>\n",
    "<td><code>cases_new</code></td>\n",
    "<td>cases reported in the 24h since the last report</td>\n",
    "</tr>\n",
    "<tr>\n",
    "<td><code>cases_import</code></td>\n",
    "<td>imported cases reported in the 24h since the last report</td>\n",
    "</tr>\n",
    "<tr>\n",
    "<td><code>cases_active</code></td>\n",
    "<td>Covid+ individuals who have not recovered or died</td>\n",
    "</tr>\n",
    "<tr>\n",
    "<td><code>cases_recovered</code></td>\n",
    "<td>recovered cases reported in the 24h since the last report</td>\n",
    "</tr>\n",
    "</tbody>\n",
    "</table>"
   ]
  },
  {
   "cell_type": "markdown",
   "metadata": {},
   "source": [
    "Next, here is the description about the columns that are available in the **last_100_days_vax** dataset\n",
    "\n",
    "<table>\n",
    "<thead>\n",
    "<tr>\n",
    "<th>last_100_days_vax</th>\n",
    "<th></th>\n",
    "</tr>\n",
    "</thead>\n",
    "<tbody>\n",
    "<tr>\n",
    "<td>Columns</td>\n",
    "<td>Explanation</td>\n",
    "</tr>\n",
    "<tr>\n",
    "<td><code>date</code></td>\n",
    "<td>yyyy-mm-dd format; data correct as of 2359hrs on that date</td>\n",
    "</tr>\n",
    "<tr>\n",
    "<td><code>daily_partial</code></td>\n",
    "<td>number of individuals who received the first dose of a two-dose protocol</td>\n",
    "</tr>\n",
    "<tr>\n",
    "<td><code>daily_full</code></td>\n",
    "<td>number of individuals who completed their original protocol (whether the 2nd dose of a two-dose protocol, or a single-dose protocol)</td>\n",
    "</tr>\n",
    "<tr>\n",
    "<td><code>daily_booster</code></td>\n",
    "<td>number of individuals who received one dose beyond the original protocol</td>\n",
    "</tr>\n",
    "<tr>\n",
    "<td><code>daily_booster2</code></td>\n",
    "<td>number of individuals who received two dose beyond the original protocol</td>\n",
    "</tr>\n",
    "<tr>\n",
    "<td><code>daily</code></td>\n",
    "<td>total doses administered</td>\n",
    "</tr>\n",
    "</tbody>\n",
    "</table> \n",
    "\n",
    "<br>\n",
    "Some columns are not listed at here as they will not be used for the challenges. If you want to know more about the other columns, you may click these links:\n",
    "\n",
    "1. [Covid Cases Data](https://github.com/MoH-Malaysia/covid19-public/blob/main/epidemic/README.md)\n",
    "2. [Vaccination Data](https://github.com/MoH-Malaysia/covid19-public/blob/main/vaccination/README.md)"
   ]
  },
  {
   "cell_type": "markdown",
   "metadata": {},
   "source": [
    "--- \n",
    "**TASK: Recreate the line graph below (2 points)**  \n",
    "\n",
    "Use the data from the **last_100_days_cases**, plot a line graph that shows 2 items using **seaborn**:   \n",
    "> i. New Covid-19 cases   \n",
    "> ii. Recovered Covid-19 cases  \n",
    "\n",
    "\n",
    "Tips:  \n",
    "1. Set figure size to (12,8)\n",
    "\n",
    "![Covid_Graph_1.png](Assets/Covid_Graph_1.png)"
   ]
  },
  {
   "cell_type": "code",
   "execution_count": null,
   "metadata": {},
   "outputs": [],
   "source": [
    "# CODE HERE"
   ]
  },
  {
   "cell_type": "code",
   "execution_count": null,
   "metadata": {},
   "outputs": [],
   "source": [
    "# SOLUTION\n",
    "\n",
    "plt.figure(figsize=(12,8))\n",
    "ax = sns.lineplot(data=last_100_days_cases, x='date', y='cases_new', label='New Cases')\n",
    "sns.lineplot(data=last_100_days_cases, x='date', y='cases_recovered', label='Recovered Cases')\n",
    "\n",
    "ax.set_ylabel(\"Number of cases\")\n",
    "ax.set_xlabel(\"Date\")\n",
    "\n",
    "plt.show()"
   ]
  },
  {
   "cell_type": "markdown",
   "metadata": {},
   "source": [
    "---\n",
    "**TASK: Recreate the line graph below (3 points)**  \n",
    "\n",
    "Use the data from **last_100_days_cases**, create a line graph that shows active cases using **seaborn**.\n",
    "\n",
    "Tips:\n",
    "1. Graph configuration \n",
    "    - Figure size: (12,8)\n",
    "    - Line color: Black\n",
    "    - Alpha value for fill between: 0.2\n",
    "\n",
    "    <br>\n",
    "\n",
    "![Covid_Graph_2.png](Assets/Covid_Graph_2.png)"
   ]
  },
  {
   "cell_type": "code",
   "execution_count": null,
   "metadata": {},
   "outputs": [],
   "source": [
    "#  CODE HERE"
   ]
  },
  {
   "cell_type": "code",
   "execution_count": null,
   "metadata": {},
   "outputs": [],
   "source": [
    "# SOLUTION\n",
    "\n",
    "plt.figure(figsize=(12,8))\n",
    "ax = sns.lineplot(data=last_100_days_cases, x='date', y='cases_active', label='Active Cases', color='black')\n",
    "ax.fill_between(x=last_100_days_cases['date'], y1=last_100_days_cases['cases_active'], alpha=0.2)\n",
    "ax.set_ylabel(\"Number of cases\")\n",
    "ax.set_xlabel(\"Date\")\n",
    "plt.show()"
   ]
  },
  {
   "cell_type": "markdown",
   "metadata": {},
   "source": [
    "---\n",
    "**TASK: Recreate the bar chart below (4 points)**  \n",
    "\n",
    "Use the data from **last_100_days_cases**, create a line graph that shows active cases using **seaborn**.\n",
    "\n",
    "Tips:\n",
    "1. Graph configuration \n",
    "    - Figure size: (20,10)\n",
    "    - Bar color: Skyblue\n",
    "\n",
    "2. Run this code to obtain the modified x ticks labels and set it as the x-axis tick labels with 90 degree rotation\n",
    "    > last_100_days_cases['date'].dt.strftime(\"%m-%d\")\n",
    "\n",
    "\n",
    "![Covid_Graph_3.png](Assets/Covid_Graph_3.png)"
   ]
  },
  {
   "cell_type": "code",
   "execution_count": null,
   "metadata": {},
   "outputs": [],
   "source": [
    "# CODE HERE"
   ]
  },
  {
   "cell_type": "code",
   "execution_count": null,
   "metadata": {},
   "outputs": [],
   "source": [
    "# SOLUTION\n",
    "\n",
    "plt.figure(figsize=(20, 10))\n",
    "\n",
    "formatted_date = last_100_days_cases['date'].dt.strftime(\"%m-%d\")\n",
    "\n",
    "ax = sns.barplot(data=last_100_days_cases, x='date', y='cases_import', color='skyblue')\n",
    "\n",
    "ax.set_ylabel(\"Number of Cases\")\n",
    "ax.set_xlabel(\"Date\")\n",
    "ax.set_title(\"New Covid Cases\")\n",
    "ax.set_xticklabels(labels=formatted_date, rotation = 90)\n",
    "\n",
    "plt.show()"
   ]
  },
  {
   "cell_type": "markdown",
   "metadata": {},
   "source": [
    "---\n",
    "---\n",
    "\n",
    "## **Congratulations**\n",
    "You have managed to complete all of the novice challenges. Impressive! 😁   \n",
    "\n",
    "---"
   ]
  }
 ],
 "metadata": {
  "kernelspec": {
   "display_name": "Python 3.10.1 64-bit",
   "language": "python",
   "name": "python3"
  },
  "language_info": {
   "codemirror_mode": {
    "name": "ipython",
    "version": 3
   },
   "file_extension": ".py",
   "mimetype": "text/x-python",
   "name": "python",
   "nbconvert_exporter": "python",
   "pygments_lexer": "ipython3",
   "version": "3.10.1"
  },
  "orig_nbformat": 4,
  "vscode": {
   "interpreter": {
    "hash": "369f2c481f4da34e4445cda3fffd2e751bd1c4d706f27375911949ba6bb62e1c"
   }
  }
 },
 "nbformat": 4,
 "nbformat_minor": 2
}
