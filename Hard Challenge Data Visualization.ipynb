{
 "cells": [
  {
   "cell_type": "markdown",
   "metadata": {},
   "source": [
    "---\n",
    "---\n",
    "\n",
    "## **Expert Challenge 🦸‍♀️**\n",
    "\n",
    "### **Plot E=mc^2**\n",
    "E = mc^2, equation in German-born physicist Albert Einstein's theory of special relativity that expresses the fact that mass and enery are the same physical entity and can be changed into each other. It is one of the famous physics formula that has been recognised by everyone and its contributions to the field of nuclear and particle physics are just tremendous. \n",
    "\n",
    "**For this exercise, you will have to plot a E=mc^2 graph based on the given requirements**"
   ]
  },
  {
   "cell_type": "markdown",
   "metadata": {},
   "source": [
    "---\n",
    "**TASK: import the necessary libraries**\n",
    "\n",
    "Run the code below to import the libraries that will be used for this challenge."
   ]
  },
  {
   "cell_type": "code",
   "execution_count": null,
   "metadata": {},
   "outputs": [],
   "source": [
    "import matplotlib.pyplot as plt"
   ]
  },
  {
   "cell_type": "markdown",
   "metadata": {},
   "source": [
    "---\n",
    "**TASK: Create a dataset to plot the graph (2 points)**\n",
    "\n",
    "You will have to plot E=mc^2 graph for m, which ranges from integer 0 to 10. Create **two** lists to store the values of **m**, and the energy, **E** which calculated with the formula E=mc^2. Note that the speed of light, c used in this formula is 3^(10^8) ms-1.\n",
    "\n",
    "Your lists should have these values:\n",
    "\n",
    "m - [0, 1, 2, 3, 4, 5, 6, 7, 8, 9, 10]  \n",
    "E - [0, 90000000000000000, 180000000000000000, 270000000000000000, 360000000000000000, 450000000000000000, 540000000000000000, 630000000000000000, 720000000000000000, 810000000000000000, 900000000000000000]"
   ]
  },
  {
   "cell_type": "code",
   "execution_count": null,
   "metadata": {},
   "outputs": [],
   "source": [
    "# CODE HERE"
   ]
  },
  {
   "cell_type": "code",
   "execution_count": null,
   "metadata": {},
   "outputs": [],
   "source": [
    "# SOLUTION\n",
    "\n",
    "m = list(range(0, 11, 1))\n",
    "c = 3*10**8\n",
    "E = []\n",
    "\n",
    "for i in range(len(m)):\n",
    "    E.append(m[i]*c**2)"
   ]
  },
  {
   "cell_type": "markdown",
   "metadata": {},
   "source": [
    "---\n",
    "**TASK: Recreate the graph below which maps out E=mc^2 (2 points)**  \n",
    "\n",
    "By using the list m and E that you have made from previous task, plot the graph using **matplotlib**.\n",
    "\n",
    "![Physics_Graph_1.png](Assets/Physics_Graph_1.png)"
   ]
  },
  {
   "cell_type": "code",
   "execution_count": null,
   "metadata": {},
   "outputs": [],
   "source": [
    "# CODE HERE"
   ]
  },
  {
   "cell_type": "code",
   "execution_count": null,
   "metadata": {},
   "outputs": [],
   "source": [
    "# SOLUTION\n",
    "\n",
    "plt.plot(m,E,color='red',lw=5)\n",
    "plt.title(\"E=mc^2\")\n",
    "plt.xlabel(\"Mass in Grams\")\n",
    "plt.ylabel(\"Energy in Joules\")\n",
    "plt.show()"
   ]
  },
  {
   "cell_type": "markdown",
   "metadata": {},
   "source": [
    "---\n",
    "**TASK: Plot E=mc^2 on a logarithmic scale on the y axis (3 points)**  \n",
    "\n",
    "Using **matplotlib**, plot the logarithmic graph as shown below.\n",
    "\n",
    "Tips:\n",
    "1. Search about yscale() to set the logarithmic scale\n",
    "2. Search about grid() to set the grid of the plotted graph same as the picture  \n",
    "\n",
    "![Physics_Graph_2.png](Assets/Physics_Graph_2.png)"
   ]
  },
  {
   "cell_type": "code",
   "execution_count": null,
   "metadata": {},
   "outputs": [],
   "source": [
    "# CODE HERE"
   ]
  },
  {
   "cell_type": "code",
   "execution_count": null,
   "metadata": {},
   "outputs": [],
   "source": [
    "# SOLUTION\n",
    "\n",
    "plt.plot(m,E,color='red',lw=5)\n",
    "plt.title(\"E=mc^2\")\n",
    "plt.xlabel(\"Mass in Grams\")\n",
    "plt.ylabel(\"Energy in Joules\")\n",
    "plt.xlim(0,10)\n",
    "\n",
    "# LOG SCALE\n",
    "plt.yscale(\"log\")\n",
    "plt.grid(which='both',axis='y')\n",
    "\n",
    "plt.show()"
   ]
  },
  {
   "cell_type": "markdown",
   "metadata": {},
   "source": [
    "---\n",
    "\n",
    "### **Plot Inflation Graph**\n",
    "In economics, inflation is the rate of increase in prices over a given period of time. Inflation is typically a broad measure, such as the overall increase in prices or the increase in the cost of living in a country. For example, an inflation rate of 5% per year means that if your shopping costs you $100 today, it would have cost you about only $95 a year ago. Generally, too much inflation is generally considered bad for an economy, while too little inflation is also considered harmful. This is because economists believe that a small amount of inflation can help drive economic growth. Thus, the acceptable inflation rate is set around 2% or a bit below.\n",
    "\n",
    "**For this exercise, we will give you the data to plot a graph of the inflation rates between Malaysia and World Average**"
   ]
  },
  {
   "cell_type": "markdown",
   "metadata": {},
   "source": [
    "---\n",
    "**TASK: Run the cell below to create the lists for plotting**  \n",
    "\n",
    "Below are the data that will be used for the plotting, run the cell to initialise the lists."
   ]
  },
  {
   "cell_type": "code",
   "execution_count": null,
   "metadata": {},
   "outputs": [],
   "source": [
    "labels = list(range(2012, 2022, 1))\n",
    "malaysia = [1.66, 2.11, 3.14, 2.10, 2.09, 3.87, 0.88, 0.66, -1.14, 2.48]\n",
    "world = [3.73, 2.62, 2.35, 1.43, 1.55, 2.19, 2.44, 2.19, 1.92, 3.42]"
   ]
  },
  {
   "cell_type": "markdown",
   "metadata": {},
   "source": [
    "---\n",
    "**TASK: Recreate the graph below (3 points)**  \n",
    "\n",
    "Using **matplotlit**, create two separated line graphs in which the first graph shows Malaysia's inflation rate, whereas the second graph shows World Average's inflation rate. \n",
    "\n",
    "Tips:\n",
    "1. Set figure size to (12,8)\n",
    "\n",
    "![Expert_Challenge_Plot_1.png](Assets/Expert_Challenge_Plot_1.png)"
   ]
  },
  {
   "cell_type": "code",
   "execution_count": null,
   "metadata": {},
   "outputs": [],
   "source": [
    "# CODE HERE"
   ]
  },
  {
   "cell_type": "code",
   "execution_count": null,
   "metadata": {},
   "outputs": [],
   "source": [
    "# SOLUTION\n",
    "\n",
    "fig,axes = plt.subplots(nrows=2,ncols=1,figsize=(12,8))\n",
    "\n",
    "axes[0].plot(labels, malaysia)\n",
    "axes[0].set_title(\"Malaysia Inflation Rate\")\n",
    "axes[1].plot(labels,world)\n",
    "axes[1].set_title(\"World Average Inflation Rate\")\n",
    "\n",
    "plt.show()"
   ]
  },
  {
   "cell_type": "markdown",
   "metadata": {},
   "source": [
    "---\n",
    "**TASK: Try to recreate the plot below that uses twin axes (7 points)**  \n",
    "\n",
    "Using **matplotlib**, try to find a way that could plot different axes on the same graph.\n",
    "\n",
    "Tips:\n",
    "1. Graph configuration \n",
    "    - Figure size: (12,8)\n",
    "    - Plotting line width: 2\n",
    "    - Spine line width: 4\n",
    "    - Label font size: 18\n",
    "    - Y ticks font size: 15\n",
    "\n",
    "2. Search twinx() and spines  \n",
    "\n",
    "![Expert_Challenge_Plot_2.png](Assets/Expert_Challenge_Plot_2.png)"
   ]
  },
  {
   "cell_type": "code",
   "execution_count": null,
   "metadata": {},
   "outputs": [],
   "source": [
    "# CODE HERE"
   ]
  },
  {
   "cell_type": "code",
   "execution_count": null,
   "metadata": {},
   "outputs": [],
   "source": [
    "# SOLUTION\n",
    "\n",
    "fig, ax1 = plt.subplots(figsize=(12,8))\n",
    "\n",
    "ax1.plot(labels,malaysia, lw=2, color=\"blue\")\n",
    "ax1.set_ylabel(\"Malaysia\", fontsize=18, color=\"blue\")\n",
    "\n",
    "ax1.spines['left'].set_color('blue')\n",
    "ax1.spines['left'].set_linewidth(4)\n",
    "\n",
    "for label in ax1.get_yticklabels():\n",
    "    label.set_color(\"blue\")\n",
    "plt.yticks(fontsize=15)    \n",
    "    \n",
    "ax2 = ax1.twinx()\n",
    "ax2.plot(labels,world, lw=2, color=\"red\")\n",
    "ax2.set_ylabel(\"World Average\", fontsize=18, color=\"red\")\n",
    "\n",
    "ax2.spines['right'].set_color('red')\n",
    "ax2.spines['right'].set_linewidth(4)\n",
    "\n",
    "for label in ax2.get_yticklabels():\n",
    "    label.set_color(\"red\")\n",
    "    \n",
    "ax1.set_title(\"Inflation Rate\");\n",
    "plt.yticks(fontsize=15)\n",
    "\n",
    "plt.show()"
   ]
  },
  {
   "cell_type": "markdown",
   "metadata": {},
   "source": [
    "---\n",
    "\n",
    "### **Exploratory Data Analysis with Seaborn**\n",
    "Credit score cards are a common risk control method in the financial industry. It uses personal information and data submitted by credit card applicants to predict the probability of future defaults and credit card borrowings. The bank is able to decide whether to issue a credit card to the applicant. Credit scores can objectively quantify the magnitude of risk.\n",
    "\n",
    "**For this exercise, we will use the credit cards data provided by [Kaggle](https://www.kaggle.com/datasets/rikdifos/credit-card-approval-prediction)**"
   ]
  },
  {
   "cell_type": "markdown",
   "metadata": {},
   "source": [
    "---\n",
    "\n",
    "**Task: Run the cell below to load the dataset**\n",
    "\n",
    "The cell below will import the dataset for the challenge."
   ]
  },
  {
   "cell_type": "code",
   "execution_count": null,
   "metadata": {},
   "outputs": [],
   "source": [
    "import pandas as pd\n",
    "import seaborn as sns\n",
    "import matplotlib.pyplot as plt\n",
    "\n",
    "df = pd.read_csv(\"https://raw.githubusercontent.com/ryoshi007/Datasets/main/Credit_Card_Data.csv\")\n",
    "df.head()"
   ]
  },
  {
   "cell_type": "markdown",
   "metadata": {},
   "source": [
    "---\n",
    "Feature Information:\n",
    "\n",
    "<table>\n",
    "<thead>\n",
    "<tr>\n",
    "<th>application_record.csv</th>\n",
    "<th></th>\n",
    "<th></th>\n",
    "</tr>\n",
    "</thead>\n",
    "<tbody>\n",
    "<tr>\n",
    "<td>Feature name</td>\n",
    "<td>Explanation</td>\n",
    "<td>Remarks</td>\n",
    "</tr>\n",
    "<tr>\n",
    "<td><code>ID</code></td>\n",
    "<td>Client number</td>\n",
    "<td></td>\n",
    "</tr>\n",
    "<tr>\n",
    "<td><code>CODE_GENDER</code></td>\n",
    "<td>Gender</td>\n",
    "<td></td>\n",
    "</tr>\n",
    "<tr>\n",
    "<td><code>FLAG_OWN_CAR</code></td>\n",
    "<td>Is there a car</td>\n",
    "<td></td>\n",
    "</tr>\n",
    "<tr>\n",
    "<td><code>FLAG_OWN_REALTY</code></td>\n",
    "<td>Is there a property</td>\n",
    "<td></td>\n",
    "</tr>\n",
    "<tr>\n",
    "<td><code>CNT_CHILDREN</code></td>\n",
    "<td>Number of children</td>\n",
    "<td></td>\n",
    "</tr>\n",
    "<tr>\n",
    "<td><code>AMT_INCOME_TOTAL</code></td>\n",
    "<td>Annual income</td>\n",
    "<td></td>\n",
    "</tr>\n",
    "<tr>\n",
    "<td><code>NAME_INCOME_TYPE</code></td>\n",
    "<td>Income category</td>\n",
    "<td></td>\n",
    "</tr>\n",
    "<tr>\n",
    "<td><code>NAME_EDUCATION_TYPE</code></td>\n",
    "<td>Education level</td>\n",
    "<td></td>\n",
    "</tr>\n",
    "<tr>\n",
    "<td><code>NAME_FAMILY_STATUS</code></td>\n",
    "<td>Marital status</td>\n",
    "<td></td>\n",
    "</tr>\n",
    "<tr>\n",
    "<td><code>NAME_HOUSING_TYPE</code></td>\n",
    "<td>Way of living</td>\n",
    "<td></td>\n",
    "</tr>\n",
    "<tr>\n",
    "<td><code>DAYS_BIRTH</code></td>\n",
    "<td>Birthday</td>\n",
    "<td>Count backwards from current day (0), -1 means yesterday</td>\n",
    "</tr>\n",
    "<tr>\n",
    "<td><code>DAYS_EMPLOYED</code></td>\n",
    "<td>Start date  of employment</td>\n",
    "<td>Count backwards from current day(0). If  positive, it means the person currently unemployed.</td>\n",
    "</tr>\n",
    "<tr>\n",
    "<td><code>FLAG_MOBIL</code></td>\n",
    "<td>Is there a mobile   phone</td>\n",
    "<td></td>\n",
    "</tr>\n",
    "<tr>\n",
    "<td><code>FLAG_WORK_PHONE</code></td>\n",
    "<td>Is there a work phone</td>\n",
    "<td></td>\n",
    "</tr>\n",
    "<tr>\n",
    "<td><code>FLAG_PHONE</code></td>\n",
    "<td>Is there a phone</td>\n",
    "<td></td>\n",
    "</tr>\n",
    "<tr>\n",
    "<td><code>FLAG_EMAIL</code></td>\n",
    "<td>Is there an email</td>\n",
    "<td></td>\n",
    "</tr>\n",
    "<tr>\n",
    "<td><code>OCCUPATION_TYPE</code></td>\n",
    "<td>Occupation</td>\n",
    "<td></td>\n",
    "</tr>\n",
    "<tr>\n",
    "<td><code>CNT_FAM_MEMBERS</code></td>\n",
    "<td>Family size</td>\n",
    "<td></td>\n",
    "</tr>\n",
    "</tbody>\n",
    "</table>"
   ]
  },
  {
   "cell_type": "markdown",
   "metadata": {},
   "source": [
    "---\n",
    "**TASK: Create the scatter plot shown below (4 points)**  \n",
    "\n",
    "The scatterplot attempts to show the relationship between the days employed versus the age of the person (DAY_BIRTH) for people who were not unemployed. Note, to reproduce this chart, you must remove umemployed people from the dataset first. Also note the sign of the axis, they are both transformed to be positive.\n",
    "\n",
    "Tips:\n",
    "1. Remove the umemployed people\n",
    "2. Make both DAY_EMPLOYED and DAYS_BIRTH value positive\n",
    "3. Graph configuration:  \n",
    "    - Figure size: (12,8)\n",
    "    - Line width: 0\n",
    "    - Alpha: 0.01\n",
    "\n",
    "    <br>\n",
    "\n",
    "![EDA_Graph_1.png](Assets/EDA_Graph_1.png)"
   ]
  },
  {
   "cell_type": "code",
   "execution_count": null,
   "metadata": {},
   "outputs": [],
   "source": [
    "# RUN ME FIRST\n",
    "\n",
    "import warnings\n",
    "warnings.simplefilter('ignore')"
   ]
  },
  {
   "cell_type": "code",
   "execution_count": null,
   "metadata": {},
   "outputs": [],
   "source": [
    "# CODE HERE"
   ]
  },
  {
   "cell_type": "code",
   "execution_count": null,
   "metadata": {},
   "outputs": [],
   "source": [
    "# SOLUTION\n",
    "\n",
    "plt.figure(figsize=(12,8))\n",
    "\n",
    "employed = df[df['DAYS_EMPLOYED']<0]\n",
    "\n",
    "employed['DAYS_EMPLOYED'] = -1*employed['DAYS_EMPLOYED']\n",
    "employed['DAYS_BIRTH'] = -1*employed['DAYS_BIRTH']\n",
    "sns.scatterplot(y='DAYS_EMPLOYED',x='DAYS_BIRTH',data=employed,\n",
    "                alpha=0.01,linewidth=0)\n",
    "plt.show()"
   ]
  },
  {
   "cell_type": "markdown",
   "metadata": {},
   "source": [
    "---\n",
    "**TASK: Create the distribution plot shown below (2 points)**  \n",
    "\n",
    "Figure out on how to calculate \"Age in Years\" from one of the columns in the dataframe. And then proceed to create the distribution plot using seaborn.\n",
    "\n",
    "Tips:\n",
    "1. Graph configuration:  \n",
    "    - Figure size: (8,4)\n",
    "    - Line width: 2\n",
    "    - Edge color: Black\n",
    "    - Bar color: Red\n",
    "    - Bins value: 45\n",
    "    - Alpha: 0.4\n",
    "\n",
    "    <br>\n",
    "\n",
    "![EDA_Graph_2.png](Assets/EDA_Graph_2.png)"
   ]
  },
  {
   "cell_type": "code",
   "execution_count": null,
   "metadata": {},
   "outputs": [],
   "source": [
    "# CODE HERE"
   ]
  },
  {
   "cell_type": "code",
   "execution_count": null,
   "metadata": {},
   "outputs": [],
   "source": [
    "# SOLUTION\n",
    "\n",
    "plt.figure(figsize=(8,4))\n",
    "\n",
    "df['YEARS'] = -1*df['DAYS_BIRTH']/365\n",
    "sns.histplot(data=df,x='YEARS',linewidth=2,edgecolor='black',\n",
    "             color='red',bins=45,alpha=0.4)\n",
    "plt.xlabel(\"Age in Years\")\n",
    "plt.show()"
   ]
  },
  {
   "cell_type": "markdown",
   "metadata": {},
   "source": [
    "---\n",
    "**TASK: Create the categorical plot shown below (3 points)**  \n",
    "\n",
    "This plot shows information only for the bottom half of income earners in the dataset. It shows the boxplots for each category of NAME_FAMILY_STATUS column for displaying their distribution of their total income. The hue is the \"FLAG_OWN_REALTY\" column.\n",
    "\n",
    "Tips:\n",
    "1. Graph configuration:  \n",
    "    - Figure size: (12,5)\n",
    "\n",
    "    <br>\n",
    "\n",
    "2. Legend configuration:  \n",
    "    - Bbox to anchor: (1.05, 1)\n",
    "    - Loc: 2\n",
    "    - Border axes pad: 0\n",
    "\n",
    "![EDA_Graph_3.png](Assets/EDA_Graph_3.png)"
   ]
  },
  {
   "cell_type": "code",
   "execution_count": null,
   "metadata": {},
   "outputs": [],
   "source": [
    "# CODE HERE"
   ]
  },
  {
   "cell_type": "code",
   "execution_count": null,
   "metadata": {},
   "outputs": [],
   "source": [
    "# SOLUTION\n",
    "\n",
    "plt.figure(figsize=(12,5))\n",
    "\n",
    "bottom_half_income = df.nsmallest(n=int(0.5*len(df)),columns='AMT_INCOME_TOTAL')\n",
    "sns.boxplot(x='NAME_FAMILY_STATUS',y='AMT_INCOME_TOTAL',data=bottom_half_income,hue='FLAG_OWN_REALTY')\n",
    "plt.legend(bbox_to_anchor=(1.05, 1), loc=2, borderaxespad=0.,title='FLAG_OWN_REALTY')\n",
    "plt.title('Income Totals per Family Status for Bottom Half of Earners')\n",
    "plt.show()"
   ]
  },
  {
   "cell_type": "markdown",
   "metadata": {},
   "source": [
    "---\n",
    "**TASK: Create the heat map shown below (3 points)**  \n",
    "\n",
    "This heatmap shows the correlation between the columns in the dataframe. You can get correlation with .corr(). Also, note that FLAG_MOBIL column has NaN correlation with every other column, so you should drop it before calling .corr()\n",
    "\n",
    "Tips:\n",
    "1. Drop the column with NaN value\n",
    "2. Search about .corr() in pandas\n",
    "3. Graph configuration:  \n",
    "    - cmap: Viridis\n",
    "\n",
    "![EDA_Graph_4.png](Assets/EDA_Graph_4.png)"
   ]
  },
  {
   "cell_type": "code",
   "execution_count": null,
   "metadata": {},
   "outputs": [],
   "source": [
    "# CODE HERE"
   ]
  },
  {
   "cell_type": "code",
   "execution_count": null,
   "metadata": {},
   "outputs": [],
   "source": [
    "# SOLUTION\n",
    "\n",
    "sns.heatmap(df.drop('FLAG_MOBIL',axis=1).corr(),cmap=\"viridis\")"
   ]
  },
  {
   "cell_type": "markdown",
   "metadata": {},
   "source": [
    "---\n",
    "---\n",
    "\n",
    "## **Congratulations 🏅**\n",
    "You have managed to complete all of the hard challenges. Truly legend! 😮   "
   ]
  },
  {
   "cell_type": "markdown",
   "metadata": {},
   "source": [
    "---\n",
    "---\n",
    "\n",
    "# **Conclusion 👋**\n",
    "Congratulation for reaching the end section of \"Data Visualization\" station. We hope that these tutorials and challenges could increase your knowledges about the matplotlib and seaborn libraries. What we have included here is just a tip of iceberg and it would be great if you can self-explore the rest of the libraries. If you fail to complete some challenges, please don't give up! This is just a part of learning process, nobody can ace it at once. Forget the mistake, remember the lesson. Keep your spirit up and be ready to explore other fun station. Goodbye!\n",
    "\n",
    "---"
   ]
  }
 ],
 "metadata": {
  "kernelspec": {
   "display_name": "Python 3.10.1 64-bit",
   "language": "python",
   "name": "python3"
  },
  "language_info": {
   "codemirror_mode": {
    "name": "ipython",
    "version": 3
   },
   "file_extension": ".py",
   "mimetype": "text/x-python",
   "name": "python",
   "nbconvert_exporter": "python",
   "pygments_lexer": "ipython3",
   "version": "3.10.6"
  },
  "orig_nbformat": 4,
  "vscode": {
   "interpreter": {
    "hash": "369f2c481f4da34e4445cda3fffd2e751bd1c4d706f27375911949ba6bb62e1c"
   }
  }
 },
 "nbformat": 4,
 "nbformat_minor": 2
}
