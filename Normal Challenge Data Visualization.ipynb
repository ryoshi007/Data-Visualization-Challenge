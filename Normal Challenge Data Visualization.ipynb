{
 "cells": [
  {
   "cell_type": "markdown",
   "metadata": {},
   "source": [
    "---\n",
    "---\n",
    "## **Intermediate Challenge 🧒**\n",
    "\n",
    "### **A More Advanced Skill with CovidNow Dataset**\n",
    "Now let's move on to make a more complicated graph using the same dataset from the previous challenges, shall we?"
   ]
  },
  {
   "cell_type": "markdown",
   "metadata": {},
   "source": [
    "---\n",
    "\n",
    "**Task: Run the cell below to load the dataset**\n",
    "\n",
    "The cell below will import the necessary libraries for this challenge. Note that the original dataset has been sliced and you will use **last_100_days_cases**, **last_100_days_vax** and **last_100_days_death** data for the rest of challenges."
   ]
  },
  {
   "cell_type": "code",
   "execution_count": null,
   "metadata": {},
   "outputs": [],
   "source": [
    "# Import the libraries\n",
    "from datetime import date\n",
    "import pandas as pd\n",
    "import matplotlib.pyplot as plt\n",
    "import seaborn as sns\n",
    "\n",
    "# Load the dataset about vaccination\n",
    "vax_data = pd.read_csv('https://raw.githubusercontent.com/MoH-Malaysia/covid19-public/main/vaccination/vax_malaysia.csv')\n",
    "vax_data['date'] = pd.to_datetime(vax_data['date'])\n",
    "\n",
    "# Obtain the vaccination information for the last 100 days starting from today\n",
    "last_100_days_vax = vax_data[vax_data[\"date\"] >= (pd.to_datetime(date.today()) - pd.Timedelta(days=100))]\n",
    "\n",
    "# Load the dataset about death\n",
    "death_data = pd.read_csv('https://raw.githubusercontent.com/MoH-Malaysia/covid19-public/main/epidemic/deaths_malaysia.csv')\n",
    "death_data['date'] = pd.to_datetime(death_data['date'])\n",
    "\n",
    "# Obtain the death information for the last 100 days starting from today\n",
    "last_100_days_death = death_data[death_data[\"date\"] >= (pd.to_datetime(date.today()) - pd.Timedelta(days=100))]"
   ]
  },
  {
   "cell_type": "markdown",
   "metadata": {},
   "source": [
    "---\n",
    "Here is the description about the columns that are available in the **last_100_days_vax** dataset\n",
    "\n",
    "<table>\n",
    "<thead>\n",
    "<tr>\n",
    "<th>last_100_days_vax</th>\n",
    "<th></th>\n",
    "</tr>\n",
    "</thead>\n",
    "<tbody>\n",
    "<tr>\n",
    "<td>Columns</td>\n",
    "<td>Explanation</td>\n",
    "</tr>\n",
    "<tr>\n",
    "<td><code>date</code></td>\n",
    "<td>yyyy-mm-dd format; data correct as of 2359hrs on that date</td>\n",
    "</tr>\n",
    "<tr>\n",
    "<td><code>daily_partial</code></td>\n",
    "<td>number of individuals who received the first dose of a two-dose protocol</td>\n",
    "</tr>\n",
    "<tr>\n",
    "<td><code>daily_full</code></td>\n",
    "<td>number of individuals who completed their original protocol (whether the 2nd dose of a two-dose protocol, or a single-dose protocol)</td>\n",
    "</tr>\n",
    "<tr>\n",
    "<td><code>daily_booster</code></td>\n",
    "<td>number of individuals who received one dose beyond the original protocol</td>\n",
    "</tr>\n",
    "<tr>\n",
    "<td><code>daily_booster2</code></td>\n",
    "<td>number of individuals who received two dose beyond the original protocol</td>\n",
    "</tr>\n",
    "<tr>\n",
    "<td><code>daily</code></td>\n",
    "<td>total doses administered</td>\n",
    "</tr>\n",
    "</tbody>\n",
    "</table> "
   ]
  },
  {
   "cell_type": "markdown",
   "metadata": {},
   "source": [
    "And here is the description about the columns that are available in the **last_100_days_death** dataset\n",
    "\n",
    "<table>\n",
    "<thead>\n",
    "<tr>\n",
    "<th>last_100_days_death</th>\n",
    "<th></th>\n",
    "</tr>\n",
    "</thead>\n",
    "<tbody>\n",
    "<tr>\n",
    "<td>Columns</td>\n",
    "<td>Explanation</td>\n",
    "</tr>\n",
    "<tr>\n",
    "<td><code>date</code></td>\n",
    "<td>yyyy-mm-dd format; data correct as of 1200hrs on that date</td>\n",
    "</tr>\n",
    "<tr>\n",
    "<td><code>deaths_new</code></td>\n",
    "<td>deaths due to COVID-19 based on date reported to public</td>\n",
    "</tr>\n",
    "<tr>\n",
    "<td><code>deaths_bid</code></td>\n",
    "<td>deaths due to COVID-19 which were brought-in dead based on date reported to public (perfect subset of deaths_new)</td>\n",
    "</tr>\n",
    "<tr>\n",
    "<td><code>deaths_unvax</code></td>\n",
    "<td>number of unvaccinated individuals who died due to COVID-19 based on date of death</td>\n",
    "</tr>\n",
    "<tr>\n",
    "<td><code>deaths_pvax</code></td>\n",
    "<td>number of partially-vaccinated individuals who died due to COVID-19 based on date of death (perfect subset of deaths_new_dod), where \"partially vaccinated\" is defined as receiving at least 1 dose of a 2-dose vaccine at least 1 day prior to testing positive, or receiving the Cansino vaccine between 1-27 days before testing positive.</td>\n",
    "</tr>\n",
    "<tr>\n",
    "<td><code>deaths_fvax</code></td>\n",
    "<td>number of fully-vaccinated who died due to COVID-19 based on date of death (perfect subset of deaths_new_dod), where \"fully vaccinated\" is defined as receiving the 2nd dose of a 2-dose vaccine at least 14 days prior to testing positive, or receiving the Cansino vaccine at least 28 days before testing positive.</td>\n",
    "</tr>\n",
    "<tr>\n",
    "<td><code>deaths_boost</code></td>\n",
    "<td>number of boosted who died due to COVID-19 based on date of death (perfect subset of deaths_new_dod), where \"boost\" is defined as receiving one dose or more beyond the original protocol.</td>\n",
    "</tr>\n",
    "</tbody>\n",
    "</table>  \n",
    "\n",
    "<br>\n",
    "Some columns are not listed at here as they will not be used for the challenges. If you want to know more about the other columns, you may click these links:\n",
    "\n",
    "1. [Death Data](https://github.com/MoH-Malaysia/covid19-public/blob/main/epidemic/README.md)\n",
    "2. [Vaccination Data](https://github.com/MoH-Malaysia/covid19-public/blob/main/vaccination/README.md)"
   ]
  },
  {
   "cell_type": "markdown",
   "metadata": {},
   "source": [
    "---\n",
    "**TASK: Create the stack plot (4 points)**  \n",
    "\n",
    "Use the data from **last_100_days_death**, create a stack plot that display the information about the **deaths_unvax**, **deaths_pvax**, **deaths_fvax** and **deaths_boost**.\n",
    "\n",
    "Tips:\n",
    "1. Graph configuration \n",
    "    - Figure size: (20,8)\n",
    "    - Colors: ['palegreen', 'sandybrown', 'skyblue', 'violet']\n",
    "\n",
    "\n",
    "2. Use dictionary when inserting y values and the labels\n",
    "\n",
    "![Covid_Graph_5.png](Assets/Covid_Graph_5.png)"
   ]
  },
  {
   "cell_type": "code",
   "execution_count": null,
   "metadata": {},
   "outputs": [],
   "source": [
    "# CODE HERE"
   ]
  },
  {
   "cell_type": "code",
   "execution_count": null,
   "metadata": {},
   "outputs": [],
   "source": [
    "# SOLUTION\n",
    "\n",
    "plt.figure(figsize=(20,8))\n",
    "\n",
    "y_values = {\n",
    "    \"Unvaccinated\": last_100_days_death['deaths_unvax'],\n",
    "    \"Partially Vaccinated\": last_100_days_death['deaths_pvax'],\n",
    "    \"Fully Vaccinated\": last_100_days_death['deaths_fvax'],\n",
    "    \"Boosted\": last_100_days_death['deaths_boost']\n",
    "}\n",
    "\n",
    "colors = ['palegreen', 'sandybrown', 'skyblue', 'violet']\n",
    "\n",
    "plt.stackplot(last_100_days_death['date'], y_values.values(), labels=y_values.keys(), colors=colors)\n",
    "\n",
    "plt.title(\"Death Info\")\n",
    "plt.ylabel(\"Number of death\")\n",
    "plt.xlabel(\"Date\")\n",
    "plt.legend()\n",
    "\n",
    "plt.show()"
   ]
  },
  {
   "cell_type": "markdown",
   "metadata": {},
   "source": [
    "\n",
    "---\n",
    "**TASK: Create the stacked bar chart (6 points)**  \n",
    "\n",
    "Use the data from **last_100_days_vax**, create a stacked bar chart that display the information about the **daily_full**, **daily_partial**, **daily_booster** and **daily_booster2**. To plot the line graph, use the information from **daily** data. All must be done with **matplotlib** libraries only.\n",
    "\n",
    "Tips:\n",
    "1. Graph configuration \n",
    "    - Figure size: (20,10)\n",
    "    - Daily_full bar color: Skyblue\n",
    "    - Daily_partial bar color: Lightpink\n",
    "    - Daily_booster bar color: Wheat\n",
    "    - Daily_booster2 bar color: Lightgreen\n",
    "    \n",
    "2. Plot the bar charts first, then the line graph\n",
    "3. Type carefully for the bottom parameter inside bar() method\n",
    "\n",
    "![Covid_Graph_4.png](Assets/Covid_Graph_4.png)\n",
    "\n"
   ]
  },
  {
   "cell_type": "code",
   "execution_count": null,
   "metadata": {},
   "outputs": [],
   "source": [
    "# CODE HERE"
   ]
  },
  {
   "cell_type": "code",
   "execution_count": null,
   "metadata": {},
   "outputs": [],
   "source": [
    "# SOLUTION\n",
    "\n",
    "plt.figure(figsize=(20,10))\n",
    "\n",
    "plt.bar(last_100_days_vax['date'], last_100_days_vax['daily_full'], color='skyblue', label='Received 2nd Dose')\n",
    "plt.bar(last_100_days_vax['date'], last_100_days_vax['daily_partial'], color='lightpink', label='Received 1st Dose', bottom=last_100_days_vax['daily_full'])\n",
    "plt.bar(last_100_days_vax['date'], last_100_days_vax['daily_booster'], color='wheat', label='Received Booster Dose', bottom=last_100_days_vax['daily_full'] \n",
    "        + last_100_days_vax['daily_partial'])\n",
    "plt.bar(last_100_days_vax['date'], last_100_days_vax['daily_booster2'], color='lightgreen', label='Received 2nd Booster Dose', bottom=last_100_days_vax['daily_full'] \n",
    "        + last_100_days_vax['daily_partial'] + last_100_days_vax['daily_booster'])\n",
    "plt.plot(last_100_days_vax['date'], last_100_days_vax['daily'], color='black')\n",
    "\n",
    "plt.xlabel(\"Date\")\n",
    "plt.ylabel(\"Number\")\n",
    "plt.title(\"Vaccination Info\")\n",
    "plt.legend()\n",
    "plt.show()"
   ]
  },
  {
   "cell_type": "markdown",
   "metadata": {},
   "source": [
    "---\n",
    "---\n",
    "\n",
    "## **Congratulations 🎊**\n",
    "You have managed to complete all of the intermediate challenges. Marvelous! Let's see if you can do the same with the hard challenges. 😉   \n",
    "\n",
    "---"
   ]
  }
 ],
 "metadata": {
  "kernelspec": {
   "display_name": "Python 3.10.1 64-bit",
   "language": "python",
   "name": "python3"
  },
  "language_info": {
   "name": "python",
   "version": "3.10.6"
  },
  "orig_nbformat": 4,
  "vscode": {
   "interpreter": {
    "hash": "369f2c481f4da34e4445cda3fffd2e751bd1c4d706f27375911949ba6bb62e1c"
   }
  }
 },
 "nbformat": 4,
 "nbformat_minor": 2
}
